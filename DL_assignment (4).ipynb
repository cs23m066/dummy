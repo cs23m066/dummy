{
  "cells": [
    {
      "cell_type": "markdown",
      "metadata": {
        "id": "view-in-github",
        "colab_type": "text"
      },
      "source": [
        "<a href=\"https://colab.research.google.com/github/cs23m066/DL-ASSIGNMENT/blob/main/DL_assignment.ipynb\" target=\"_parent\"><img src=\"https://colab.research.google.com/assets/colab-badge.svg\" alt=\"Open In Colab\"/></a>"
      ]
    },
    {
      "cell_type": "code",
      "execution_count": 1,
      "metadata": {
        "id": "tgL_8F69L6vq"
      },
      "outputs": [],
      "source": [
        "from keras.datasets import fashion_mnist\n",
        "import matplotlib.pyplot as plt\n",
        "import numpy as np"
      ]
    },
    {
      "cell_type": "code",
      "execution_count": 1,
      "metadata": {
        "id": "RHsFJmc6hInx"
      },
      "outputs": [],
      "source": []
    },
    {
      "cell_type": "code",
      "execution_count": 2,
      "metadata": {
        "id": "pMwkLyjwV-2u"
      },
      "outputs": [],
      "source": [
        "from sklearn.model_selection import train_test_split"
      ]
    },
    {
      "cell_type": "code",
      "execution_count": 3,
      "metadata": {
        "colab": {
          "base_uri": "https://localhost:8080/",
          "height": 785
        },
        "id": "QURlkRmNH8S0",
        "outputId": "f1f87c58-a04d-47df-c2c9-38bfd7777bcd"
      },
      "outputs": [
        {
          "output_type": "stream",
          "name": "stdout",
          "text": [
            "Collecting wandb\n",
            "  Downloading wandb-0.16.4-py3-none-any.whl (2.2 MB)\n",
            "\u001b[2K     \u001b[90m━━━━━━━━━━━━━━━━━━━━━━━━━━━━━━━━━━━━━━━━\u001b[0m \u001b[32m2.2/2.2 MB\u001b[0m \u001b[31m4.8 MB/s\u001b[0m eta \u001b[36m0:00:00\u001b[0m\n",
            "\u001b[?25hRequirement already satisfied: Click!=8.0.0,>=7.1 in /usr/local/lib/python3.10/dist-packages (from wandb) (8.1.7)\n",
            "Collecting GitPython!=3.1.29,>=1.0.0 (from wandb)\n",
            "  Downloading GitPython-3.1.42-py3-none-any.whl (195 kB)\n",
            "\u001b[2K     \u001b[90m━━━━━━━━━━━━━━━━━━━━━━━━━━━━━━━━━━━━━━━━\u001b[0m \u001b[32m195.4/195.4 kB\u001b[0m \u001b[31m4.5 MB/s\u001b[0m eta \u001b[36m0:00:00\u001b[0m\n",
            "\u001b[?25hRequirement already satisfied: requests<3,>=2.0.0 in /usr/local/lib/python3.10/dist-packages (from wandb) (2.31.0)\n",
            "Requirement already satisfied: psutil>=5.0.0 in /usr/local/lib/python3.10/dist-packages (from wandb) (5.9.5)\n",
            "Collecting sentry-sdk>=1.0.0 (from wandb)\n",
            "  Downloading sentry_sdk-1.42.0-py2.py3-none-any.whl (263 kB)\n",
            "\u001b[2K     \u001b[90m━━━━━━━━━━━━━━━━━━━━━━━━━━━━━━━━━━━━━━━━\u001b[0m \u001b[32m263.5/263.5 kB\u001b[0m \u001b[31m20.0 MB/s\u001b[0m eta \u001b[36m0:00:00\u001b[0m\n",
            "\u001b[?25hCollecting docker-pycreds>=0.4.0 (from wandb)\n",
            "  Downloading docker_pycreds-0.4.0-py2.py3-none-any.whl (9.0 kB)\n",
            "Requirement already satisfied: PyYAML in /usr/local/lib/python3.10/dist-packages (from wandb) (6.0.1)\n",
            "Collecting setproctitle (from wandb)\n",
            "  Downloading setproctitle-1.3.3-cp310-cp310-manylinux_2_5_x86_64.manylinux1_x86_64.manylinux_2_17_x86_64.manylinux2014_x86_64.whl (30 kB)\n",
            "Requirement already satisfied: setuptools in /usr/local/lib/python3.10/dist-packages (from wandb) (67.7.2)\n",
            "Requirement already satisfied: appdirs>=1.4.3 in /usr/local/lib/python3.10/dist-packages (from wandb) (1.4.4)\n",
            "Requirement already satisfied: protobuf!=4.21.0,<5,>=3.19.0 in /usr/local/lib/python3.10/dist-packages (from wandb) (3.20.3)\n",
            "Requirement already satisfied: six>=1.4.0 in /usr/local/lib/python3.10/dist-packages (from docker-pycreds>=0.4.0->wandb) (1.16.0)\n",
            "Collecting gitdb<5,>=4.0.1 (from GitPython!=3.1.29,>=1.0.0->wandb)\n",
            "  Downloading gitdb-4.0.11-py3-none-any.whl (62 kB)\n",
            "\u001b[2K     \u001b[90m━━━━━━━━━━━━━━━━━━━━━━━━━━━━━━━━━━━━━━━━\u001b[0m \u001b[32m62.7/62.7 kB\u001b[0m \u001b[31m4.7 MB/s\u001b[0m eta \u001b[36m0:00:00\u001b[0m\n",
            "\u001b[?25hRequirement already satisfied: charset-normalizer<4,>=2 in /usr/local/lib/python3.10/dist-packages (from requests<3,>=2.0.0->wandb) (3.3.2)\n",
            "Requirement already satisfied: idna<4,>=2.5 in /usr/local/lib/python3.10/dist-packages (from requests<3,>=2.0.0->wandb) (3.6)\n",
            "Requirement already satisfied: urllib3<3,>=1.21.1 in /usr/local/lib/python3.10/dist-packages (from requests<3,>=2.0.0->wandb) (2.0.7)\n",
            "Requirement already satisfied: certifi>=2017.4.17 in /usr/local/lib/python3.10/dist-packages (from requests<3,>=2.0.0->wandb) (2024.2.2)\n",
            "Collecting smmap<6,>=3.0.1 (from gitdb<5,>=4.0.1->GitPython!=3.1.29,>=1.0.0->wandb)\n",
            "  Downloading smmap-5.0.1-py3-none-any.whl (24 kB)\n",
            "Installing collected packages: smmap, setproctitle, sentry-sdk, docker-pycreds, gitdb, GitPython, wandb\n",
            "Successfully installed GitPython-3.1.42 docker-pycreds-0.4.0 gitdb-4.0.11 sentry-sdk-1.42.0 setproctitle-1.3.3 smmap-5.0.1 wandb-0.16.4\n"
          ]
        },
        {
          "output_type": "display_data",
          "data": {
            "text/plain": [
              "<IPython.core.display.Javascript object>"
            ],
            "application/javascript": [
              "\n",
              "        window._wandbApiKey = new Promise((resolve, reject) => {\n",
              "            function loadScript(url) {\n",
              "            return new Promise(function(resolve, reject) {\n",
              "                let newScript = document.createElement(\"script\");\n",
              "                newScript.onerror = reject;\n",
              "                newScript.onload = resolve;\n",
              "                document.body.appendChild(newScript);\n",
              "                newScript.src = url;\n",
              "            });\n",
              "            }\n",
              "            loadScript(\"https://cdn.jsdelivr.net/npm/postmate/build/postmate.min.js\").then(() => {\n",
              "            const iframe = document.createElement('iframe')\n",
              "            iframe.style.cssText = \"width:0;height:0;border:none\"\n",
              "            document.body.appendChild(iframe)\n",
              "            const handshake = new Postmate({\n",
              "                container: iframe,\n",
              "                url: 'https://wandb.ai/authorize'\n",
              "            });\n",
              "            const timeout = setTimeout(() => reject(\"Couldn't auto authenticate\"), 5000)\n",
              "            handshake.then(function(child) {\n",
              "                child.on('authorize', data => {\n",
              "                    clearTimeout(timeout)\n",
              "                    resolve(data)\n",
              "                });\n",
              "            });\n",
              "            })\n",
              "        });\n",
              "    "
            ]
          },
          "metadata": {}
        },
        {
          "output_type": "stream",
          "name": "stderr",
          "text": [
            "\u001b[34m\u001b[1mwandb\u001b[0m: Logging into wandb.ai. (Learn how to deploy a W&B server locally: https://wandb.me/wandb-server)\n",
            "\u001b[34m\u001b[1mwandb\u001b[0m: You can find your API key in your browser here: https://wandb.ai/authorize\n",
            "wandb: Paste an API key from your profile and hit enter, or press ctrl+c to quit:"
          ]
        },
        {
          "name": "stdout",
          "output_type": "stream",
          "text": [
            " ··········\n"
          ]
        },
        {
          "output_type": "stream",
          "name": "stderr",
          "text": [
            "\u001b[34m\u001b[1mwandb\u001b[0m: Appending key for api.wandb.ai to your netrc file: /root/.netrc\n",
            "\u001b[34m\u001b[1mwandb\u001b[0m: Currently logged in as: \u001b[33mcs23m066\u001b[0m (\u001b[33mdlassignment\u001b[0m). Use \u001b[1m`wandb login --relogin`\u001b[0m to force relogin\n"
          ]
        },
        {
          "output_type": "display_data",
          "data": {
            "text/plain": [
              "<IPython.core.display.HTML object>"
            ],
            "text/html": [
              "Tracking run with wandb version 0.16.4"
            ]
          },
          "metadata": {}
        },
        {
          "output_type": "display_data",
          "data": {
            "text/plain": [
              "<IPython.core.display.HTML object>"
            ],
            "text/html": [
              "Run data is saved locally in <code>/content/wandb/run-20240317_180014-nb4ltgw5</code>"
            ]
          },
          "metadata": {}
        },
        {
          "output_type": "display_data",
          "data": {
            "text/plain": [
              "<IPython.core.display.HTML object>"
            ],
            "text/html": [
              "Syncing run <strong><a href='https://wandb.ai/dlassignment/DL_assignment/runs/nb4ltgw5' target=\"_blank\">fancy-sun-177</a></strong> to <a href='https://wandb.ai/dlassignment/DL_assignment' target=\"_blank\">Weights & Biases</a> (<a href='https://wandb.me/run' target=\"_blank\">docs</a>)<br/>"
            ]
          },
          "metadata": {}
        },
        {
          "output_type": "display_data",
          "data": {
            "text/plain": [
              "<IPython.core.display.HTML object>"
            ],
            "text/html": [
              " View project at <a href='https://wandb.ai/dlassignment/DL_assignment' target=\"_blank\">https://wandb.ai/dlassignment/DL_assignment</a>"
            ]
          },
          "metadata": {}
        },
        {
          "output_type": "display_data",
          "data": {
            "text/plain": [
              "<IPython.core.display.HTML object>"
            ],
            "text/html": [
              " View run at <a href='https://wandb.ai/dlassignment/DL_assignment/runs/nb4ltgw5' target=\"_blank\">https://wandb.ai/dlassignment/DL_assignment/runs/nb4ltgw5</a>"
            ]
          },
          "metadata": {}
        },
        {
          "output_type": "execute_result",
          "data": {
            "text/html": [
              "<button onClick=\"this.nextSibling.style.display='block';this.style.display='none';\">Display W&B run</button><iframe src='https://wandb.ai/dlassignment/DL_assignment/runs/nb4ltgw5?jupyter=true' style='border:none;width:100%;height:420px;display:none;'></iframe>"
            ],
            "text/plain": [
              "<wandb.sdk.wandb_run.Run at 0x794f824dbc10>"
            ]
          },
          "metadata": {},
          "execution_count": 3
        }
      ],
      "source": [
        "!pip install wandb\n",
        "import wandb\n",
        "from wandb.keras import WandbCallback\n",
        "import socket\n",
        "socket.setdefaulttimeout(30)\n",
        "wandb.login()\n",
        "wandb.init(project ='DL_assignment')"
      ]
    },
    {
      "cell_type": "code",
      "execution_count": 4,
      "metadata": {
        "colab": {
          "base_uri": "https://localhost:8080/"
        },
        "id": "__ETyY0mMHa_",
        "outputId": "17fcf9a4-bc81-4c54-f017-bdb528bad948"
      },
      "outputs": [
        {
          "output_type": "stream",
          "name": "stdout",
          "text": [
            "Downloading data from https://storage.googleapis.com/tensorflow/tf-keras-datasets/train-labels-idx1-ubyte.gz\n",
            "29515/29515 [==============================] - 0s 0us/step\n",
            "Downloading data from https://storage.googleapis.com/tensorflow/tf-keras-datasets/train-images-idx3-ubyte.gz\n",
            "26421880/26421880 [==============================] - 0s 0us/step\n",
            "Downloading data from https://storage.googleapis.com/tensorflow/tf-keras-datasets/t10k-labels-idx1-ubyte.gz\n",
            "5148/5148 [==============================] - 0s 0us/step\n",
            "Downloading data from https://storage.googleapis.com/tensorflow/tf-keras-datasets/t10k-images-idx3-ubyte.gz\n",
            "4422102/4422102 [==============================] - 0s 0us/step\n"
          ]
        }
      ],
      "source": [
        "(X_train, Y_train), (X_test, Y_test) = fashion_mnist.load_data()\n",
        "train_images, validation_images,train_labels, validation_labels  = train_test_split(X_train,Y_train,test_size = 0.1)\n",
        "#train_images, train_labels), (test_images, test_labels) = fashion_mnist.load_data()"
      ]
    },
    {
      "cell_type": "code",
      "execution_count": 5,
      "metadata": {
        "colab": {
          "base_uri": "https://localhost:8080/",
          "height": 340
        },
        "id": "k8i8-ccXMKO6",
        "outputId": "e8ab8dcd-a968-4540-bc46-3bd0d04f1377"
      },
      "outputs": [
        {
          "output_type": "display_data",
          "data": {
            "text/plain": [
              "<Figure size 500x500 with 10 Axes>"
            ],
            "image/png": "[encoded data removed]"
          },
          "metadata": {}
        }
      ],
      "source": [
        "(train_images2, train_labels2), (test_images2, test_labels2) = fashion_mnist.load_data()\n",
        "mySet = np.unique(train_labels2)\n",
        "myData  = []\n",
        "count = 10\n",
        "for train_image,train_label in zip(train_images2,train_labels2):\n",
        "  if(train_label in mySet ):\n",
        "    index = np.where(mySet == train_label)\n",
        "    myData.append(train_image)\n",
        "    mySet = np.delete(mySet,index)\n",
        "    count-=1\n",
        "  if(count == 0):\n",
        "    break\n",
        "names =['Ankle boot','T-shirt/top','Dress','Pullover','sneaker','Sandal','Trouser','Shirt','Coat','Bag']\n",
        "fig, axes = plt.subplots(2, 5, figsize=(5, 5))\n",
        "for i, ax in enumerate(axes.flat):\n",
        "    ax.set_title(names[i])\n",
        "    ax.imshow(myData[i], cmap=plt.cm.binary)\n",
        "    ax.axis('off')\n",
        "plt.tight_layout()\n",
        "#wandb.log({'plt':plt})\n",
        "plt.show()"
      ]
    },
    {
      "cell_type": "code",
      "execution_count": 6,
      "metadata": {
        "id": "7Lbv4UBxMOio"
      },
      "outputs": [],
      "source": [
        "def _softmax(z):\n",
        "  eps = 1e-6\n",
        "  return (np.exp(z-max(z)) / (sum(np.exp(z-max(z))) + eps))"
      ]
    },
    {
      "cell_type": "code",
      "execution_count": 7,
      "metadata": {
        "id": "-4YAZAeYMY89"
      },
      "outputs": [],
      "source": [
        "def _sigmoid(z):\n",
        "  z = np.clip(z, -500, 500)\n",
        "  return 1/(1+np.exp(-z))\n",
        "  # return sigmoid_z"
      ]
    },
    {
      "cell_type": "code",
      "execution_count": 8,
      "metadata": {
        "id": "bcCoG_0KMbf9"
      },
      "outputs": [],
      "source": [
        "def _sigmoid_derivative(z):\n",
        "  return _sigmoid(z) * (1 - _sigmoid(z))"
      ]
    },
    {
      "cell_type": "code",
      "execution_count": 9,
      "metadata": {
        "id": "_5tfY-5K64FY"
      },
      "outputs": [],
      "source": [
        "def _tanh(z):\n",
        "  clipped_z = np.clip(z, -50, 50)\n",
        "  return np.tanh(clipped_z)"
      ]
    },
    {
      "cell_type": "code",
      "source": [
        "def _identity(z):\n",
        "  return z"
      ],
      "metadata": {
        "id": "wP0InTGAbCYx"
      },
      "execution_count": 10,
      "outputs": []
    },
    {
      "cell_type": "code",
      "source": [
        "def _identity_derivative(z):\n",
        "  res = np.ones(z.shape)\n",
        "  return res"
      ],
      "metadata": {
        "id": "JHMygwbPbK5_"
      },
      "execution_count": 11,
      "outputs": []
    },
    {
      "cell_type": "code",
      "execution_count": 12,
      "metadata": {
        "id": "hBHAV5ag78QI"
      },
      "outputs": [],
      "source": [
        "def _tanh_derivative(z):\n",
        "  return 1-np.tanh(z)**2"
      ]
    },
    {
      "cell_type": "code",
      "execution_count": 13,
      "metadata": {
        "id": "vA7SMBCL8HAR"
      },
      "outputs": [],
      "source": [
        "def _relu(z):\n",
        "  return np.maximum(0,z)"
      ]
    },
    {
      "cell_type": "code",
      "execution_count": 14,
      "metadata": {
        "id": "oZM6I4DB8gnT"
      },
      "outputs": [],
      "source": [
        "def _relu_derivative(z):\n",
        "  return np.where(z>0,1,0)"
      ]
    },
    {
      "cell_type": "code",
      "source": [],
      "metadata": {
        "id": "peQsbRlka_AG"
      },
      "execution_count": 14,
      "outputs": []
    },
    {
      "cell_type": "code",
      "execution_count": 15,
      "metadata": {
        "id": "_QNFY2P0ihBS"
      },
      "outputs": [],
      "source": [
        "def backwardPropogation(w,h,a,clas,n,train_image,activFunc,lossFun):\n",
        "  dw = [0 for i in range(n+1)]\n",
        "  db = [0 for i in range(n+1)]\n",
        "  e_l = np.zeros((10,1))\n",
        "  e_l[clas] = 1  # ([0,1,0,0,0,0,0,0,0,0])\n",
        "  if(lossFun == 'entropy'):\n",
        "    da = -(e_l - h[n])\n",
        "  else :\n",
        "    da = (h[n]-e_l)*(h[n])*(1-h[n])\n",
        "  layers = len(w)-1\n",
        "  while(layers>0):\n",
        "    dw[layers] = np.matmul(da,(h[layers-1].T))\n",
        "    db[layers] = np.copy(da)\n",
        "    dh_n_1 = np.matmul((w[layers].T),da) #it will be used for and in below step only\n",
        "    if(activFunc == 'sigmoid'):\n",
        "      da = np.multiply(dh_n_1,_sigmoid_derivative(a[layers-1])) #for next iteration\n",
        "    elif(activFunc == 'tanh'):\n",
        "      da = np.multiply(dh_n_1,_tanh_derivative(a[layers-1]))\n",
        "    elif(activFunc == 'relu'):\n",
        "      da = np.multiply(dh_n_1,_relu_derivative(a[layers-1]))\n",
        "    else:\n",
        "      da = np.multiply(dh_n_1,_identity_derivative(a[layers-1]))\n",
        "    layers-=1\n",
        "  dw[0] = np.matmul(da,train_image.T)\n",
        "  db[0] = np.copy(da)\n",
        "  return dw,db"
      ]
    },
    {
      "cell_type": "markdown",
      "metadata": {
        "id": "6O8da4tR6zeb"
      },
      "source": []
    },
    {
      "cell_type": "code",
      "execution_count": 16,
      "metadata": {
        "id": "kzEqObH7t_8p"
      },
      "outputs": [],
      "source": [
        "import copy"
      ]
    },
    {
      "cell_type": "code",
      "execution_count": 17,
      "metadata": {
        "id": "q63_mKAkWDR1"
      },
      "outputs": [],
      "source": [
        "def forwardPropogation(w,b,n,train_image,activFunc):\n",
        "  a = [0 for i in range(n+1)]\n",
        "  h = [0 for i in range(n+1)]\n",
        "  for i in range(0,n):\n",
        "    if(i == 0 ):\n",
        "      a[i] = np.matmul(w[i], train_image) + b[i]\n",
        "    else:\n",
        "      a[i] = np.matmul(w[i],h[i-1]) + b[i]\n",
        "    if(activFunc == 'sigmoid'):\n",
        "      h[i] = _sigmoid(a[i])\n",
        "    elif(activFunc == 'tanh'):\n",
        "      h[i] = _tanh(a[i])\n",
        "    elif(activFunc == 'relu'):\n",
        "      h[i] = _relu(a[i])\n",
        "    else:\n",
        "      h[i] = _identity(a[i])\n",
        "  a[n] =  np.matmul(w[n],h[n-1]) + b[n]\n",
        "  h[n] = np.copy(_softmax(a[n]))\n",
        "  return a,h"
      ]
    },
    {
      "cell_type": "code",
      "execution_count": 17,
      "metadata": {
        "id": "IDSCNuATMlb3"
      },
      "outputs": [],
      "source": []
    },
    {
      "cell_type": "code",
      "execution_count": 18,
      "metadata": {
        "id": "mwmG5e6uP-_c"
      },
      "outputs": [],
      "source": [
        "def accuracyCalc(train_image,train_label,w,b,n,activFunc,lossFun):\n",
        "  a,h = forwardPropogation(w,b,n,train_image,activFunc)\n",
        "  res = np.copy(h[n])\n",
        "  maxi = res[0]\n",
        "  label = 0\n",
        "  for i in range(1,10):\n",
        "    if(res[i] > maxi ):\n",
        "      maxi = res[i]\n",
        "      label = i\n",
        "  if(lossFun == 'entropy'):\n",
        "    return label , -np.log(res[train_label]+(1e-5))\n",
        "  else:\n",
        "    a_l = np.zeros((10,1))\n",
        "    a_l[train_label] = 1\n",
        "    return label, np.sum((h[n]-a_l)**2)\n"
      ]
    },
    {
      "cell_type": "code",
      "execution_count": 19,
      "metadata": {
        "id": "8_U0irkiccDB"
      },
      "outputs": [],
      "source": [
        "def validationAccuracy(validation_image,validation_label,w,b,n,activFunc,lossFun):\n",
        "  a,h = forwardPropogation(w,b,n,validation_image,activFunc)\n",
        "  res = np.copy(h[n])\n",
        "  maxi = res[0]\n",
        "  label = 0\n",
        "  for i in range(1,10):\n",
        "    if(res[i] > maxi ):\n",
        "      maxi = res[i]\n",
        "      label = i\n",
        "  if(lossFun == 'entropy'):\n",
        "    return label,-np.log(res[validation_label]+(1e-5))\n",
        "  else:\n",
        "    a_l = np.zeros((10,1))\n",
        "    a_l[validation_label] = 1\n",
        "    return label, np.sum((h[n]-a_l)**2)"
      ]
    },
    {
      "cell_type": "code",
      "execution_count": 20,
      "metadata": {
        "id": "sLCfBQ7aCfB0"
      },
      "outputs": [],
      "source": [
        "def intializer(n,neurons,weightInit):\n",
        "  w = []\n",
        "  b = []\n",
        "  prev = 784\n",
        "  if(weightInit == 'random'):\n",
        "    for i in range (0,n):\n",
        "      w.append(np.random.randn(neurons,prev))\n",
        "      b.append(np.random.randn(neurons,1))\n",
        "      prev = neurons\n",
        "    w.append(np.random.randn(10,prev))\n",
        "    b.append(np.random.randn(10,1))  #[(100,1),(100,1),(10,1)]\n",
        "    # Weights are intitialzed  [(100,784),(100,100),(10,100)]\n",
        "  else:\n",
        "    for i in range (0,n):\n",
        "      w.append(np.random.randn(neurons,prev))\n",
        "      b.append(np.zeros((neurons,1)))\n",
        "      prev = neurons\n",
        "    w.append(np.random.randn(10,prev))\n",
        "    b.append(np.zeros((10,1)))  #[(100,1),(100,1),(10,1)]\n",
        "  return w,b"
      ]
    },
    {
      "cell_type": "code",
      "execution_count": 21,
      "metadata": {
        "id": "0Z2fi1FKPwkQ"
      },
      "outputs": [],
      "source": [
        "def SGD(n,neurons,maxIter,weightDecay,learnRate,batchsize,weightInit,activFunc,lossFun):\n",
        "  t = 0\n",
        "  w,b = intializer(n,neurons,weightInit)\n",
        "  # biases are initiailzed\n",
        "  count = 0\n",
        "  while(t < maxIter):\n",
        "    for train_image,train_label in zip(train_images,train_labels):\n",
        "      train_image = train_image.reshape(784,1)/255.0\n",
        "      a,h = forwardPropogation(w,b,n,train_image,activFunc)\n",
        "      dw,db = backwardPropogation(w,h,a,train_label,n,train_image,activFunc,lossFun) # here 1 is class label\n",
        "      for i in range(0,n+1):\n",
        "        w[i] = w[i] - (learnRate) * ( dw[i]) - (weightDecay * w[i])\n",
        "        b[i] = b[i] - (learnRate)* ( db[i])\n",
        "    wandb.log({'epoch':t})\n",
        "    t+=1\n",
        "    count=0\n",
        "    total_acE = 0\n",
        "    for train_image,train_label in zip(train_images,train_labels):\n",
        "      train_image = train_image.reshape(784,1)/255.0\n",
        "      label , cE = accuracyCalc(train_image,train_label,w,b,n,activFunc,lossFun)\n",
        "      if( label == train_label):\n",
        "          count+=1\n",
        "      total_acE += cE\n",
        "    print(\"train_accuracy\",\"train_loss\",count/540,total_acE/54000)\n",
        "    wandb.log({'train_accuracy':count/540})\n",
        "    wandb.log({'train_loss':total_acE/ 54000})\n",
        "    validationAcc = 0\n",
        "    total_vcE = 0\n",
        "    for validation_image,validation_label in zip(validation_images,validation_labels):\n",
        "      validation_image = validation_image.reshape(784,1)/255.0\n",
        "      label_v,vE = validationAccuracy(validation_image,validation_label,w,b,n,activFunc,lossFun)\n",
        "      if( label_v == validation_label):\n",
        "        validationAcc +=1\n",
        "      total_vcE += vE\n",
        "    print(\"validation_accuracy\",\"validation_loss\",validationAcc/60,total_vcE/6000)\n",
        "    wandb.log({'validation_accuracy':validationAcc/60})\n",
        "    wandb.log({'validation_loss':total_vcE/6000})\n",
        "\n",
        "  return count"
      ]
    },
    {
      "cell_type": "code",
      "execution_count": 21,
      "metadata": {
        "id": "pXKSwJocRW6u"
      },
      "outputs": [],
      "source": []
    },
    {
      "cell_type": "code",
      "execution_count": 22,
      "metadata": {
        "id": "1EsOFBB9CIsE"
      },
      "outputs": [],
      "source": [
        "def MGD(n,neurons,maxIter,weightDecay,learnRate,batchSize,weightInit,activFunc,lossFun):\n",
        "  w,b = intializer(n,neurons,weightInit)\n",
        "  #ddw,ddb,pr_uw,pr_ub = init2(n,neurons)\n",
        "  pr_uw = [0 for i in range(0,n+1)]\n",
        "  pr_ub = [0 for i in range(0,n+1)]\n",
        "  eta = learnRate\n",
        "  beta = 0.9\n",
        "  t = 0\n",
        "  while(t < maxIter):\n",
        "\n",
        "    temp = 1\n",
        "    ddw = [0 for i in range(0,n+1)]\n",
        "    ddb = [0 for i in range(0,n+1)]\n",
        "    for train_image,train_label in zip(train_images,train_labels):\n",
        "      train_image2 = train_image.reshape(784,1) / 255\n",
        "      a,h = forwardPropogation(w,b,n,train_image2,activFunc)\n",
        "      dw,db = backwardPropogation(w,h,a,train_label,n,train_image2,activFunc,lossFun)\n",
        "      for i in range(0,n+1):\n",
        "        ddw[i] += dw[i]\n",
        "        ddb[i] += db[i]\n",
        "      if(temp % batchSize == 0):\n",
        "        for i in range(0,n+1):\n",
        "          uw =  ddw[i] + (beta * pr_uw[i])\n",
        "          ub =  ddb[i] + (beta * pr_ub[i])\n",
        "          w[i] = (w[i] -  (eta * uw) - (weightDecay * w[i]))\n",
        "          b[i] = (b[i] -  (eta * ub))\n",
        "          pr_uw[i] = np.copy(uw)\n",
        "          pr_ub[i] = np.copy(ub)\n",
        "          for dddw in ddw:\n",
        "            dddw[:] = 0\n",
        "          for dddb in ddb:\n",
        "            dddb[:] = 0\n",
        "      temp+=1\n",
        "    wandb.log({'epoch':t})\n",
        "    t+=1\n",
        "    count=0\n",
        "    total_acE = 0\n",
        "    for train_image,train_label in zip(train_images,train_labels):\n",
        "      train_image = train_image.reshape(784,1)/255.0\n",
        "      label , cE = accuracyCalc(train_image,train_label,w,b,n,activFunc,lossFun)\n",
        "      if( label == train_label):\n",
        "          count+=1\n",
        "      total_acE += cE\n",
        "    print(\"train_accuracy\",\"train_loss\",count/540,total_acE/54000)\n",
        "    wandb.log({'train_accuracy':count/540})\n",
        "    wandb.log({'train_loss':total_acE/ 54000})\n",
        "    validationAcc = 0\n",
        "    total_vcE = 0\n",
        "    for validation_image,validation_label in zip(validation_images,validation_labels):\n",
        "      validation_image = validation_image.reshape(784,1)/255.0\n",
        "      label_v,vE = validationAccuracy(validation_image,validation_label,w,b,n,activFunc,lossFun)\n",
        "      if( label_v == validation_label):\n",
        "        validationAcc += 1\n",
        "      total_vcE += vE\n",
        "    print(\"validation_accuracy\",\"validation_loss\",validationAcc/60,total_vcE/6000)\n",
        "    wandb.log({'validation_accuracy':validationAcc/60})\n",
        "    wandb.log({'validation_loss':total_vcE/ 6000})\n",
        "\n",
        "  return count\n"
      ]
    },
    {
      "cell_type": "code",
      "execution_count": 23,
      "metadata": {
        "id": "lkJaM867CFTu"
      },
      "outputs": [],
      "source": [
        "def NGD(n,neurons,maxIter,weightDecay,learnRate,batchSize,weightInit,activFunc,lossFun):\n",
        "  w,b = intializer(n,neurons,weightInit) #initialization\n",
        "  pr_uw = [0 for i in range(0,n+1)] #history\n",
        "  pr_ub = [0 for i in range(0,n+1)]\n",
        "  v_w = [0 for i in range(0,n+1)]\n",
        "  v_b = [0 for i in range(0,n+1)] # these is for advance leap\n",
        "  eta = learnRate\n",
        "  beta = 0.9\n",
        "  t = 0\n",
        "  while(t < maxIter):\n",
        "    temp = 1\n",
        "    ddw = [0 for i in range(0,n+1)]\n",
        "    ddb = [0 for i in range(0,n+1)]\n",
        "    dummy_w = [0 for i in range(0,n+1)]\n",
        "    dummy_b = [0 for i in range(0,n+1)]\n",
        "    for i in range(0,n+1):\n",
        "      w[i] = w[i] - beta * pr_uw[i]\n",
        "      b[i] = b[i] - beta * pr_ub[i]\n",
        "    for train_image,train_label in zip(train_images,train_labels):\n",
        "      train_image = train_image.reshape(784,1)/255.0\n",
        "      a,h = forwardPropogation(w,b,n,train_image,activFunc)\n",
        "      dw,db = backwardPropogation(w,h,a,train_label,n,train_image,activFunc,lossFun)\n",
        "      for i in range(0,n+1):\n",
        "        ddw[i] += dw[i]\n",
        "        ddb[i] += db[i]\n",
        "      if(temp % batchSize == 0):\n",
        "        for i in range(0,n+1):\n",
        "          w[i] = w[i]- eta * ddw[i] - (weightDecay * w[i])\n",
        "          b[i] = b[i] - eta * ddb[i]\n",
        "          pr_uw[i] =   eta * ddw[i] + beta * pr_uw[i]\n",
        "          pr_ub[i] =   eta * ddb[i] + beta * pr_ub[i]\n",
        "        for dddw in ddw:\n",
        "          dddw[:] = 0\n",
        "        for dddb in ddb:\n",
        "          dddb[:] = 0\n",
        "      temp+=1\n",
        "    wandb.log({'epoch':t})\n",
        "    t+=1\n",
        "    count=0\n",
        "    total_acE = 0\n",
        "    for train_image,train_label in zip(train_images,train_labels):\n",
        "      train_image = train_image.reshape(784,1)/255.0\n",
        "      label , cE = accuracyCalc(train_image,train_label,w,b,n,activFunc,lossFun)\n",
        "      if( label == train_label):\n",
        "          count+=1\n",
        "      total_acE += cE\n",
        "    print(\"train_accuracy\",\"train_loss\",count/540,total_acE/54000)\n",
        "    wandb.log({'train_accuracy':count/540})\n",
        "    wandb.log({'train_loss':total_acE/ 54000})\n",
        "    validationAcc = 0\n",
        "    total_vcE = 0\n",
        "    for validation_image,validation_label in zip(validation_images,validation_labels):\n",
        "      validation_image = validation_image.reshape(784,1)/255.0\n",
        "      label_v,vE = validationAccuracy(validation_image,validation_label,w,b,n,activFunc,lossFun)\n",
        "      if( label_v == validation_label):\n",
        "        validationAcc += 1\n",
        "      total_vcE += vE\n",
        "    print(\"validation_accuracy\",\"validation_loss\",validationAcc/60,total_vcE/6000)\n",
        "    wandb.log({'validation_accuracy':validationAcc/60})\n",
        "    wandb.log({'validation_loss':total_vcE/ 6000})\n",
        "  return count\n"
      ]
    },
    {
      "cell_type": "code",
      "execution_count": 24,
      "metadata": {
        "id": "x88lU-wdjav-"
      },
      "outputs": [],
      "source": [
        "def rmsProp(n,neurons,maxIter,weightDecay,learnRate,batchSize,weightInit,activFunc,lossFun):\n",
        "  w,b = intializer(n,neurons,weightInit)\n",
        "  v_w = [0 for i in range(0,n+1)]\n",
        "  v_b = [0 for i in range(0,n+1)]\n",
        "  eps = 1e-4\n",
        "  t = 0\n",
        "  beta = 0.5\n",
        "  eta = learnRate\n",
        "  while(t < maxIter):\n",
        "    temp = 1\n",
        "    ddw = [0 for i in range(0,n+1)]\n",
        "    ddb = [0 for i in range(0,n+1)]\n",
        "    for train_image,train_label in zip(train_images,train_labels):\n",
        "      train_image = train_image.reshape(784,1)/255.0\n",
        "      a,h = forwardPropogation(w,b,n,train_image,activFunc)\n",
        "      dw,db = backwardPropogation(w,h,a,train_label,n,train_image,activFunc,lossFun)\n",
        "      for i in range(0,n+1):\n",
        "        ddw[i] += dw[i]\n",
        "        ddb[i] += db[i]\n",
        "      if(temp % batchSize == 0):\n",
        "        for i in range(0,n+1):\n",
        "          v_w[i] =  (1-beta)* (ddw[i] ** 2) + beta * v_w[i]\n",
        "          v_b[i] =  (1-beta) * (ddb[i] ** 2) + beta * v_b[i]\n",
        "          w[i] = w[i] - eta * ddw[i]/(np.sqrt(v_w[i])+eps) - (weightDecay * w[i])\n",
        "          b[i] = b[i] - eta * ddb[i]/(np.sqrt(v_b[i])+eps)\n",
        "          for dddw in ddw:\n",
        "            dddw[:] = 0\n",
        "          for dddb in ddb:\n",
        "            dddb[:] =0\n",
        "      temp+=1\n",
        "    wandb.log({'epoch':t})\n",
        "    t+=1\n",
        "    count=0\n",
        "    total_acE = 0\n",
        "    for train_image,train_label in zip(train_images,train_labels):\n",
        "      train_image = train_image.reshape(784,1)/255.0\n",
        "      label , cE = accuracyCalc(train_image,train_label,w,b,n,activFunc,lossFun)\n",
        "      if( label == train_label):\n",
        "          count+=1\n",
        "      total_acE += cE\n",
        "    print(\"train_accuracy\",\"train_loss\",count/540,total_acE/54000)\n",
        "    wandb.log({'train_accuracy':count/540})\n",
        "    wandb.log({'train_loss':total_acE/ 54000})\n",
        "    validationAcc = 0\n",
        "    total_vcE = 0\n",
        "    for validation_image,validation_label in zip(validation_images,validation_labels):\n",
        "      validation_image = validation_image.reshape(784,1)/255.0\n",
        "      label_v,vE = validationAccuracy(validation_image,validation_label,w,b,n,activFunc,lossFun)\n",
        "      if( label_v == validation_label):\n",
        "        validationAcc += 1\n",
        "      total_vcE += vE\n",
        "    print(\"validation_accuracy\",\"validation_loss\",validationAcc/60,total_vcE/6000)\n",
        "    wandb.log({'validation_accuracy':validationAcc/60})\n",
        "    wandb.log({'validation_loss':total_vcE/ 6000})\n",
        "  return count"
      ]
    },
    {
      "cell_type": "code",
      "execution_count": 25,
      "metadata": {
        "id": "uZfbLF42SFSW"
      },
      "outputs": [],
      "source": [
        "def adam(n,neurons,maxIter,weightDecay,learnRate,batchSize,weightInit,activFunc,lossFun):\n",
        "  w,b = intializer(n,neurons,weightInit)\n",
        "  beta1 = 0.9\n",
        "  beta2 = 0.999\n",
        "  eps = 1e-10\n",
        "  eta = learnRate\n",
        "  m_w = [0 for i in range(0,n+1)]\n",
        "  m_b = [0 for i in range(0,n+1)]\n",
        "  v_w = [0 for i in range(0,n+1)]\n",
        "  v_b = [0 for i in range(0,n+1)]\n",
        "\n",
        "  for iter in range (0,maxIter):\n",
        "    temp = 1\n",
        "    ddw = [0 for i in range(0,n+1)]\n",
        "    ddb = [0 for i in range(0,n+1)]\n",
        "    for train_image,train_label in zip(train_images,train_labels):\n",
        "      train_image = train_image.reshape(784,1) / 255.0\n",
        "      a,h = forwardPropogation(w,b,n,train_image,activFunc)\n",
        "      dw,db = backwardPropogation(w,h,a,train_label,n,train_image,activFunc,lossFun)\n",
        "      for i in range(0,n+1):\n",
        "        ddw[i] += dw[i]\n",
        "        ddb[i] += db[i]\n",
        "      if(temp % batchSize == 0):\n",
        "        for i in range(0,n+1):\n",
        "          m_w[i] = (1-beta1)*ddw[i] + beta1 * m_w[i]\n",
        "          m_b[i] = (1-beta1)*ddb[i] + beta1 * m_b[i]\n",
        "          v_w[i] = (1-beta2) * ddw[i]**2 + beta2 * v_w[i]\n",
        "          v_b[i] = (1-beta2) * ddb[i]**2 + beta2 * v_b[i]\n",
        "          #computed intermediate values\n",
        "          m_w_hat = m_w[i] / (1-np.power(beta1,iter+1))\n",
        "          m_b_hat = m_b[i] / (1-np.power(beta1,iter+1))\n",
        "          v_w_hat = v_w[i] / (1-np.power(beta2,iter+1))\n",
        "          v_b_hat = v_b[i] / (1-np.power(beta2,iter+1))\n",
        "          #update parameters\n",
        "          w[i] = w[i] - eta * m_w_hat / (np.sqrt(v_w_hat)+eps) - (weightDecay * w[i])\n",
        "          b[i] = b[i] - eta* m_b_hat/ (np.sqrt(v_b_hat)+eps)\n",
        "        for dddw in ddw:\n",
        "          dddw[:] = 0\n",
        "        for dddb in ddb:\n",
        "          dddb[:] = 0\n",
        "      temp+=1\n",
        "    count=0\n",
        "    total_acE = 0\n",
        "    for train_image,train_label in zip(train_images,train_labels):\n",
        "      train_image = train_image.reshape(784,1)/255.0\n",
        "      label , cE = accuracyCalc(train_image,train_label,w,b,n,activFunc,lossFun)\n",
        "      if( label == train_label):\n",
        "          count+=1\n",
        "      total_acE += cE\n",
        "    print(\"train_accuracy\",\"train_loss\",count/540,total_acE/54000)\n",
        "    wandb.log({'train_accuracy':count/540})\n",
        "    wandb.log({'train_loss':total_acE/ 54000})\n",
        "    validationAcc = 0\n",
        "    total_vcE = 0\n",
        "    for validation_image,validation_label in zip(validation_images,validation_labels):\n",
        "      validation_image = validation_image.reshape(784,1)/255.0\n",
        "      label_v,vE = validationAccuracy(validation_image,validation_label,w,b,n,activFunc,lossFun)\n",
        "      if( label_v == validation_label):\n",
        "        validationAcc += 1\n",
        "      total_vcE += vE\n",
        "    print(\"validation_accuracy\",\"validation_loss\",validationAcc/60,total_vcE/6000)\n",
        "    wandb.log({'validation_accuracy':validationAcc/60})\n",
        "    wandb.log({'validation_loss':total_vcE/ 6000})\n",
        "    wandb.log({'epoch':iter})\n",
        "    #andb.log({\"accuracy\" : count/600})\n",
        "  return count\n"
      ]
    },
    {
      "cell_type": "code",
      "execution_count": 26,
      "metadata": {
        "id": "t_Kj8yrQvdTh"
      },
      "outputs": [],
      "source": [
        "def nadam(n,neurons,maxIter,weightDecay,learnRate,batchSize,weightInit,activFunc,lossFun):\n",
        "  w,b = intializer(n,neurons,weightInit)\n",
        "  eta = learnRate\n",
        "  beta1 = 0.9\n",
        "  beta2 = 0.99\n",
        "  eps = 1e-10\n",
        "  m_w = [0 for i in range(0,n+1)]\n",
        "  m_b = [0 for i in range(0,n+1)]\n",
        "  v_w = [0 for i in range(0,n+1)]\n",
        "  v_b = [0 for i in range(0,n+1)]\n",
        "  for iter in range(0,maxIter):\n",
        "    temp = 1\n",
        "    ddw = [0 for i in range(0,n+1)]\n",
        "    ddb = [0 for i in range(0,n+1)]\n",
        "    for train_image,train_label in zip(train_images,train_labels):\n",
        "      train_image = train_image.reshape(784,1) / 255.0\n",
        "      a,h = forwardPropogation(w,b,n,train_image,activFunc)\n",
        "      dw,db = backwardPropogation(w,h,a,train_label,n,train_image,activFunc,lossFun)\n",
        "      for i in range(0,n+1):\n",
        "        ddw[i] += dw[i]\n",
        "        ddb[i] += db[i]\n",
        "      if(temp % batchSize == 0):\n",
        "        for i in range(0,n+1):\n",
        "          m_w [i]= (1-beta1)*ddw[i] + beta1 * m_w[i]\n",
        "          m_b[i] = (1-beta1)*ddb[i] + beta1 * m_b[i]\n",
        "          v_w[i] = (1-beta2) * ddw[i]**2 + beta2 * v_w[i]\n",
        "          v_b[i] = (1-beta2) * ddb[i]**2 + beta2 * v_b[i]\n",
        "          #computed intermediate values\n",
        "          m_w_hat = m_w[i] / (1-np.power(beta1,iter+1))\n",
        "          m_b_hat = m_b[i] / (1-np.power(beta1,iter+1))\n",
        "          v_w_hat = v_w[i] / (1-np.power(beta2,iter+1))\n",
        "          v_b_hat = v_b[i] / (1-np.power(beta2,iter+1))\n",
        "          #update parameters\n",
        "          w[i] = w[i] - (eta / (np.sqrt(v_w_hat+eps)))*(beta1 * m_w_hat + (1-beta1)*ddw[i]/(1-beta1**(iter+1))) - (weightDecay * w[i])\n",
        "          b[i] = b[i] - (eta / (np.sqrt(v_b_hat+eps)))*(beta1 * m_b_hat + (1-beta1)*ddb[i]/(1-beta1**(iter+1)))\n",
        "        for dddw in ddw:\n",
        "          dddw[:] = 0\n",
        "        for dddb in ddb:\n",
        "          dddb[:] = 0\n",
        "      temp+=1\n",
        "    count=0\n",
        "    total_acE = 0\n",
        "    for train_image,train_label in zip(train_images,train_labels):\n",
        "      train_image = train_image.reshape(784,1)/255.0\n",
        "      label , cE = accuracyCalc(train_image,train_label,w,b,n,activFunc,lossFun)\n",
        "      if( label == train_label):\n",
        "          count+=1\n",
        "      total_acE += cE\n",
        "    print(\"train_accuracy\",\"train_loss\",count/540,total_acE/54000)\n",
        "    wandb.log({'train_accuracy':count/540})\n",
        "    wandb.log({'train_loss':total_acE/ 54000})\n",
        "    validationAcc = 0\n",
        "    total_vcE = 0\n",
        "    for validation_image,validation_label in zip(validation_images,validation_labels):\n",
        "      validation_image = validation_image.reshape(784,1)/255.0\n",
        "      label_v,vE = validationAccuracy(validation_image,validation_label,w,b,n,activFunc,lossFun)\n",
        "      if( label_v == validation_label):\n",
        "        validationAcc += 1\n",
        "      total_vcE += vE\n",
        "    print(\"validation_accuracy\",\"validation_loss\",validationAcc/60,total_vcE/6000)\n",
        "    wandb.log({'validation_accuracy':validationAcc/60})\n",
        "    wandb.log({'validation_loss':total_vcE/ 6000})\n",
        "    wandb.log({'epoch':iter})\n",
        "  return w,b"
      ]
    },
    {
      "cell_type": "code",
      "source": [
        "def confusionMatrix(n,neurons,maxIter,weightDecay,learnRate,batchSize,weightInit,activFunc,lossFun):\n",
        "  w,b = nadam(n,neurons,maxIter,weightDecay,learnRate,batchSize,weightInit,activFunc,lossFun)\n",
        "  predicted = []\n",
        "  truth = []\n",
        "  count = 0\n",
        "  for X,Y in zip(X_test,Y_test):\n",
        "    test_image = X.reshape(784,1)/255.0\n",
        "    label , cE = accuracyCalc(test_image,Y,w,b,n,activFunc,lossFun)\n",
        "    if(label == Y):\n",
        "      count+=1\n",
        "    predicted.append(label)\n",
        "    truth.append(Y)\n",
        "  print(count/100)\n",
        "  cm = confusion_matrix(truth,predicted)\n",
        "  plt.figure(figsize=(8, 6))\n",
        "  sn.heatmap(cm, annot=True, fmt=\"d\", cmap=\"Blues\")\n",
        "  plt.xlabel('Predicted')\n",
        "  plt.ylabel('Actual')\n",
        "  plt.title('Confusion Matrix3')\n",
        "  plt.savefig('confusion_matrix3.png')\n",
        "  # Log the saved image using wandb\n",
        "  wandb.log({\"confusion_matrix3\": wandb.Image('confusion_matrix3.png')})\n",
        "  # Show the plot\n",
        "  plt.show()\n",
        ""
      ],
      "metadata": {
        "id": "22MBA6MzRaL7"
      },
      "execution_count": 27,
      "outputs": []
    },
    {
      "cell_type": "code",
      "source": [],
      "metadata": {
        "id": "VfrM2JjKZajz"
      },
      "execution_count": 27,
      "outputs": []
    },
    {
      "cell_type": "code",
      "source": [
        "from sklearn.metrics import confusion_matrix\n",
        "import seaborn as sn\n",
        "import matplotlib.pyplot as plt"
      ],
      "metadata": {
        "id": "PrhCO-QXS9Lg"
      },
      "execution_count": 28,
      "outputs": []
    },
    {
      "cell_type": "code",
      "execution_count": 29,
      "metadata": {
        "id": "7e458ZpwpBUI"
      },
      "outputs": [],
      "source": [
        "# maxIter = 2\n",
        "# n = 3 # number of hidden layers\n",
        "# neurons = 64 # size of every hidden layer\n",
        "# weightDecay = 0\n",
        "# learnRate = 0.001\n",
        "# optimizer = 'sgd'\n",
        "# batchSize = 100\n",
        "# weightInit = 'random'\n",
        "# activFunc = 'identity'\n",
        "# lossFun = 'entropy'\n",
        "# #accuracy = SGD(n,neurons,maxIter,weightDecay,learnRate,batchSize,weightInit,activFunc,lossFun)\n",
        "# #accuracy = MGD(n,neurons,maxIter,weightDecay,learnRate,batchSize,weightInit,activFunc,lossFun)\n",
        "# #accuracy = NGD(n,neurons,maxIter,weightDecay,learnRate,batchsize,weightInit,activFunc)\n",
        "# #accuracy = rmsProp(n,neurons,maxIter,weightDecay,learnRate,batchsize,weightInit,activFunc)\n",
        "# #accuracy = adam(n,neurons,maxIter,weightDecay,learnRate,batchSize,weightInit,activFunc)\n",
        "##nadam(n,neurons,maxIter,weightDecay,learnRate,batchSize,weightInit,activFunc)\n",
        "# #print(accuracy/600)\n",
        "#confusionMatrix(3,128,5,0,0.001,64,'Xavier','sigmoid','entropy')\n"
      ]
    },
    {
      "cell_type": "code",
      "source": [],
      "metadata": {
        "id": "nRR5kvo_wFm3"
      },
      "execution_count": 29,
      "outputs": []
    },
    {
      "cell_type": "code",
      "execution_count": 30,
      "metadata": {
        "colab": {
          "base_uri": "https://localhost:8080/",
          "height": 1000,
          "referenced_widgets": [
            "0466a8cdfa994fc3b0a02f84dd3f0ccc",
            "0d57e848b8c24346b8510d991b5fcec1",
            "832d6782431a4067883878e60524e5b6",
            "ae2c47f137444b88bdbc8848d0aee17e",
            "923b4949c5cb4841acf85a066cf2df84",
            "22fc166d07d04fc9b89679df52eef988",
            "2aa7f70b001a4bdda03df71d8478fe52",
            "d9a93b4138df4978bbb076aeb594ab08",
            "70ccc5ede7b041e0aaa7163354331d80",
            "c2932228b11446a881eef05c1444ca6b",
            "3d5ec6686ccb4b0cbce1c71e1a2d06ee",
            "a56c8223e84c4cf89bb777b18bee3f08",
            "5cbb672596ac468aa214874cc1f0b5ec",
            "bc2c0ac88f054197929eb87bd334b4cd",
            "dc0f789aff184b23b4f50d9d547c98a4",
            "2651f568396a4751a9909c438f84c9d1"
          ]
        },
        "id": "FuFT7pKEtv2_",
        "outputId": "558f8bd1-c3ad-475d-f07b-1ef43c6d525b"
      },
      "outputs": [
        {
          "output_type": "stream",
          "name": "stderr",
          "text": [
            "\u001b[34m\u001b[1mwandb\u001b[0m: \u001b[33mWARNING\u001b[0m Calling wandb.login() after wandb.init() has no effect.\n"
          ]
        },
        {
          "output_type": "stream",
          "name": "stdout",
          "text": [
            "Create sweep with ID: z624jgum\n",
            "Sweep URL: https://wandb.ai/dlassignment/DL_assignment/sweeps/z624jgum\n"
          ]
        },
        {
          "output_type": "stream",
          "name": "stderr",
          "text": [
            "\u001b[34m\u001b[1mwandb\u001b[0m: Agent Starting Run: sripf9qr with config:\n",
            "\u001b[34m\u001b[1mwandb\u001b[0m: \tactivFunc: sigmoid\n",
            "\u001b[34m\u001b[1mwandb\u001b[0m: \tbatchSize: 32\n",
            "\u001b[34m\u001b[1mwandb\u001b[0m: \tlearnRate: 0.001\n",
            "\u001b[34m\u001b[1mwandb\u001b[0m: \tmaxIter: 5\n",
            "\u001b[34m\u001b[1mwandb\u001b[0m: \tn: 3\n",
            "\u001b[34m\u001b[1mwandb\u001b[0m: \tneurons: 64\n",
            "\u001b[34m\u001b[1mwandb\u001b[0m: \toptimizer: sgd\n",
            "\u001b[34m\u001b[1mwandb\u001b[0m: \tweightDecay: 0\n",
            "\u001b[34m\u001b[1mwandb\u001b[0m: \tweightInit: random\n",
            "Exception in thread ChkStopThr:\n",
            "Traceback (most recent call last):\n",
            "  File \"/usr/lib/python3.10/threading.py\", line 1016, in _bootstrap_inner\n",
            "Exception in thread NetStatThr:\n",
            "Traceback (most recent call last):\n",
            "  File \"/usr/lib/python3.10/threading.py\", line 1016, in _bootstrap_inner\n",
            "    self.run()\n",
            "  File \"/usr/lib/python3.10/threading.py\", line 953, in run\n",
            "    self._target(*self._args, **self._kwargs)\n",
            "Exception in thread   File \"/usr/local/lib/python3.10/dist-packages/wandb/sdk/wandb_run.py\", line 268, in check_network_status\n",
            "IntMsgThr:\n",
            "Traceback (most recent call last):\n",
            "  File \"/usr/lib/python3.10/threading.py\", line 1016, in _bootstrap_inner\n",
            "    self._loop_check_status(        \n",
            "  File \"/usr/local/lib/python3.10/dist-packages/wandb/sdk/wandb_run.py\", line 224, in _loop_check_status\n",
            "self.run()self.run()\n",
            "    \n",
            "  File \"/usr/lib/python3.10/threading.py\", line 953, in run\n",
            "local_handle = request()\n",
            "  File \"/usr/lib/python3.10/threading.py\", line 953, in run\n",
            "  File \"/usr/local/lib/python3.10/dist-packages/wandb/sdk/interface/interface.py\", line 795, in deliver_network_status\n",
            "        return self._deliver_network_status(status)\n",
            "  File \"/usr/local/lib/python3.10/dist-packages/wandb/sdk/interface/interface_shared.py\", line 500, in _deliver_network_status\n",
            "    return self._deliver_record(record)\n",
            "  File \"/usr/local/lib/python3.10/dist-packages/wandb/sdk/interface/interface_shared.py\", line 449, in _deliver_record\n",
            "    handle = mailbox._deliver_record(record, interface=self)\n",
            "  File \"/usr/local/lib/python3.10/dist-packages/wandb/sdk/lib/mailbox.py\", line 455, in _deliver_record\n",
            "    interface._publish(record)\n",
            "  File \"/usr/local/lib/python3.10/dist-packages/wandb/sdk/interface/interface_sock.py\", line 51, in _publish\n",
            "    self._sock_client.send_record_publish(record)\n",
            "  File \"/usr/local/lib/python3.10/dist-packages/wandb/sdk/lib/sock_client.py\", line 221, in send_record_publish\n",
            "    self.send_server_request(server_req)\n",
            "  File \"/usr/local/lib/python3.10/dist-packages/wandb/sdk/lib/sock_client.py\", line 155, in send_server_request\n",
            "    self._target(*self._args, **self._kwargs)\n",
            "  File \"/usr/local/lib/python3.10/dist-packages/wandb/sdk/wandb_run.py\", line 300, in check_internal_messages\n",
            "self._target(*self._args, **self._kwargs)\n",
            "  File \"/usr/local/lib/python3.10/dist-packages/wandb/sdk/wandb_run.py\", line 286, in check_stop_status\n",
            "    self._loop_check_status(\n",
            "  File \"/usr/local/lib/python3.10/dist-packages/wandb/sdk/wandb_run.py\", line 224, in _loop_check_status\n",
            "    local_handle = request()\n",
            "  File \"/usr/local/lib/python3.10/dist-packages/wandb/sdk/interface/interface.py\", line 787, in deliver_stop_status\n",
            "    return self._deliver_stop_status(status)\n",
            "  File \"/usr/local/lib/python3.10/dist-packages/wandb/sdk/interface/interface_shared.py\", line 484, in _deliver_stop_status\n",
            "    self._loop_check_status(\n",
            "  File \"/usr/local/lib/python3.10/dist-packages/wandb/sdk/wandb_run.py\", line 224, in _loop_check_status\n",
            "    local_handle = request()\n",
            "  File \"/usr/local/lib/python3.10/dist-packages/wandb/sdk/interface/interface.py\", line 803, in deliver_internal_messages\n",
            "    return self._deliver_internal_messages(internal_message)\n",
            "  File \"/usr/local/lib/python3.10/dist-packages/wandb/sdk/interface/interface_shared.py\", line 506, in _deliver_internal_messages\n",
            "    return self._deliver_record(record)\n",
            "  File \"/usr/local/lib/python3.10/dist-packages/wandb/sdk/interface/interface_shared.py\", line 449, in _deliver_record\n",
            "    handle = mailbox._deliver_record(record, interface=self)\n",
            "  File \"/usr/local/lib/python3.10/dist-packages/wandb/sdk/lib/mailbox.py\", line 455, in _deliver_record\n",
            "    interface._publish(record)\n",
            "  File \"/usr/local/lib/python3.10/dist-packages/wandb/sdk/interface/interface_sock.py\", line 51, in _publish\n",
            "    self._sock_client.send_record_publish(record)\n",
            "  File \"/usr/local/lib/python3.10/dist-packages/wandb/sdk/lib/sock_client.py\", line 221, in send_record_publish\n",
            "        return self._deliver_record(record)\n",
            "  File \"/usr/local/lib/python3.10/dist-packages/wandb/sdk/interface/interface_shared.py\", line 449, in _deliver_record\n",
            "    handle = mailbox._deliver_record(record, interface=self)\n",
            "  File \"/usr/local/lib/python3.10/dist-packages/wandb/sdk/lib/mailbox.py\", line 455, in _deliver_record\n",
            "    interface._publish(record)\n",
            "  File \"/usr/local/lib/python3.10/dist-packages/wandb/sdk/interface/interface_sock.py\", line 51, in _publish\n",
            "    self._sock_client.send_record_publish(record)\n",
            "  File \"/usr/local/lib/python3.10/dist-packages/wandb/sdk/lib/sock_client.py\", line 221, in send_record_publish\n",
            "    self.send_server_request(server_req)\n",
            "  File \"/usr/local/lib/python3.10/dist-packages/wandb/sdk/lib/sock_client.py\", line 155, in send_server_request\n",
            "    self._send_message(msg)    self._send_message(msg)\n",
            "  File \"/usr/local/lib/python3.10/dist-packages/wandb/sdk/lib/sock_client.py\", line 152, in _send_message\n",
            "    self._sendall_with_error_handle(header + data)\n",
            "  File \"/usr/local/lib/python3.10/dist-packages/wandb/sdk/lib/sock_client.py\", line 130, in _sendall_with_error_handle\n",
            "    sent = self._sock.send(data)\n",
            "BrokenPipeError: [Errno 32] Broken pipe\n",
            "self.send_server_request(server_req)\n",
            "  File \"/usr/local/lib/python3.10/dist-packages/wandb/sdk/lib/sock_client.py\", line 155, in send_server_request\n",
            "    self._send_message(msg)\n",
            "  File \"/usr/local/lib/python3.10/dist-packages/wandb/sdk/lib/sock_client.py\", line 152, in _send_message\n",
            "    self._sendall_with_error_handle(header + data)\n",
            "  File \"/usr/local/lib/python3.10/dist-packages/wandb/sdk/lib/sock_client.py\", line 130, in _sendall_with_error_handle\n",
            "    sent = self._sock.send(data)\n",
            "BrokenPipeError: \n",
            "  File \"/usr/local/lib/python3.10/dist-packages/wandb/sdk/lib/sock_client.py\", line 152, in _send_message\n",
            "    self._sendall_with_error_handle(header + data)\n",
            "  File \"/usr/local/lib/python3.10/dist-packages/wandb/sdk/lib/sock_client.py\", line 130, in _sendall_with_error_handle\n",
            "    sent = self._sock.send(data)\n",
            "BrokenPipeError: [Errno 32] Broken pipe\n",
            "[Errno 32] Broken pipe\n",
            "\u001b[34m\u001b[1mwandb\u001b[0m: \u001b[33mWARNING\u001b[0m Ignored wandb.init() arg project when running a sweep.\n"
          ]
        },
        {
          "output_type": "display_data",
          "data": {
            "text/plain": [
              "<IPython.core.display.HTML object>"
            ],
            "text/html": [
              "Tracking run with wandb version 0.16.4"
            ]
          },
          "metadata": {}
        },
        {
          "output_type": "display_data",
          "data": {
            "text/plain": [
              "<IPython.core.display.HTML object>"
            ],
            "text/html": [
              "Run data is saved locally in <code>/content/wandb/run-20240317_180035-sripf9qr</code>"
            ]
          },
          "metadata": {}
        },
        {
          "output_type": "display_data",
          "data": {
            "text/plain": [
              "<IPython.core.display.HTML object>"
            ],
            "text/html": [
              "Syncing run <strong><a href='https://wandb.ai/dlassignment/DL_assignment/runs/sripf9qr' target=\"_blank\">copper-sweep-1</a></strong> to <a href='https://wandb.ai/dlassignment/DL_assignment' target=\"_blank\">Weights & Biases</a> (<a href='https://wandb.me/run' target=\"_blank\">docs</a>)<br/>Sweep page: <a href='https://wandb.ai/dlassignment/DL_assignment/sweeps/z624jgum' target=\"_blank\">https://wandb.ai/dlassignment/DL_assignment/sweeps/z624jgum</a>"
            ]
          },
          "metadata": {}
        },
        {
          "output_type": "display_data",
          "data": {
            "text/plain": [
              "<IPython.core.display.HTML object>"
            ],
            "text/html": [
              " View project at <a href='https://wandb.ai/dlassignment/DL_assignment' target=\"_blank\">https://wandb.ai/dlassignment/DL_assignment</a>"
            ]
          },
          "metadata": {}
        },
        {
          "output_type": "display_data",
          "data": {
            "text/plain": [
              "<IPython.core.display.HTML object>"
            ],
            "text/html": [
              " View sweep at <a href='https://wandb.ai/dlassignment/DL_assignment/sweeps/z624jgum' target=\"_blank\">https://wandb.ai/dlassignment/DL_assignment/sweeps/z624jgum</a>"
            ]
          },
          "metadata": {}
        },
        {
          "output_type": "display_data",
          "data": {
            "text/plain": [
              "<IPython.core.display.HTML object>"
            ],
            "text/html": [
              " View run at <a href='https://wandb.ai/dlassignment/DL_assignment/runs/sripf9qr' target=\"_blank\">https://wandb.ai/dlassignment/DL_assignment/runs/sripf9qr</a>"
            ]
          },
          "metadata": {}
        },
        {
          "output_type": "stream",
          "name": "stderr",
          "text": [
            "\u001b[34m\u001b[1mwandb\u001b[0m: \u001b[33mWARNING\u001b[0m Ignored wandb.init() arg project when running a sweep.\n"
          ]
        },
        {
          "output_type": "display_data",
          "data": {
            "text/plain": [
              "<IPython.core.display.HTML object>"
            ],
            "text/html": [
              "Finishing last run (ID:sripf9qr) before initializing another..."
            ]
          },
          "metadata": {}
        },
        {
          "output_type": "display_data",
          "data": {
            "text/plain": [
              "VBox(children=(Label(value='0.001 MB of 0.001 MB uploaded\\r'), FloatProgress(value=1.0, max=1.0)))"
            ],
            "application/vnd.jupyter.widget-view+json": {
              "version_major": 2,
              "version_minor": 0,
              "model_id": "0466a8cdfa994fc3b0a02f84dd3f0ccc"
            }
          },
          "metadata": {}
        },
        {
          "output_type": "display_data",
          "data": {
            "text/plain": [
              "<IPython.core.display.HTML object>"
            ],
            "text/html": [
              " View run <strong style=\"color:#cdcd00\">copper-sweep-1</strong> at: <a href='https://wandb.ai/dlassignment/DL_assignment/runs/sripf9qr' target=\"_blank\">https://wandb.ai/dlassignment/DL_assignment/runs/sripf9qr</a><br/>Synced 5 W&B file(s), 0 media file(s), 0 artifact file(s) and 0 other file(s)"
            ]
          },
          "metadata": {}
        },
        {
          "output_type": "display_data",
          "data": {
            "text/plain": [
              "<IPython.core.display.HTML object>"
            ],
            "text/html": [
              "Find logs at: <code>./wandb/run-20240317_180035-sripf9qr/logs</code>"
            ]
          },
          "metadata": {}
        },
        {
          "output_type": "display_data",
          "data": {
            "text/plain": [
              "<IPython.core.display.HTML object>"
            ],
            "text/html": [
              "Successfully finished last run (ID:sripf9qr). Initializing new run:<br/>"
            ]
          },
          "metadata": {}
        },
        {
          "output_type": "display_data",
          "data": {
            "text/plain": [
              "<IPython.core.display.HTML object>"
            ],
            "text/html": [
              "Tracking run with wandb version 0.16.4"
            ]
          },
          "metadata": {}
        },
        {
          "output_type": "display_data",
          "data": {
            "text/plain": [
              "<IPython.core.display.HTML object>"
            ],
            "text/html": [
              "Run data is saved locally in <code>/content/wandb/run-20240317_180039-sripf9qr</code>"
            ]
          },
          "metadata": {}
        },
        {
          "output_type": "display_data",
          "data": {
            "text/plain": [
              "<IPython.core.display.HTML object>"
            ],
            "text/html": [
              "Syncing run <strong><a href='https://wandb.ai/dlassignment/DL_assignment/runs/sripf9qr' target=\"_blank\">optimizer_func sgdweight_initial randomactivation_func sigmoid</a></strong> to <a href='https://wandb.ai/dlassignment/DL_assignment' target=\"_blank\">Weights & Biases</a> (<a href='https://wandb.me/run' target=\"_blank\">docs</a>)<br/>Sweep page: <a href='https://wandb.ai/dlassignment/DL_assignment/sweeps/z624jgum' target=\"_blank\">https://wandb.ai/dlassignment/DL_assignment/sweeps/z624jgum</a>"
            ]
          },
          "metadata": {}
        },
        {
          "output_type": "display_data",
          "data": {
            "text/plain": [
              "<IPython.core.display.HTML object>"
            ],
            "text/html": [
              " View project at <a href='https://wandb.ai/dlassignment/DL_assignment' target=\"_blank\">https://wandb.ai/dlassignment/DL_assignment</a>"
            ]
          },
          "metadata": {}
        },
        {
          "output_type": "display_data",
          "data": {
            "text/plain": [
              "<IPython.core.display.HTML object>"
            ],
            "text/html": [
              " View sweep at <a href='https://wandb.ai/dlassignment/DL_assignment/sweeps/z624jgum' target=\"_blank\">https://wandb.ai/dlassignment/DL_assignment/sweeps/z624jgum</a>"
            ]
          },
          "metadata": {}
        },
        {
          "output_type": "display_data",
          "data": {
            "text/plain": [
              "<IPython.core.display.HTML object>"
            ],
            "text/html": [
              " View run at <a href='https://wandb.ai/dlassignment/DL_assignment/runs/sripf9qr' target=\"_blank\">https://wandb.ai/dlassignment/DL_assignment/runs/sripf9qr</a>"
            ]
          },
          "metadata": {}
        },
        {
          "output_type": "stream",
          "name": "stdout",
          "text": [
            "validation_accuracy validation_loss 69.08333333333333 [0.87753944]\n",
            "validation_accuracy validation_loss 72.13333333333334 [0.75729944]\n",
            "validation_accuracy validation_loss 74.0 [0.69809198]\n",
            "validation_accuracy validation_loss 75.65 [0.66088634]\n",
            "validation_accuracy validation_loss 76.48333333333333 [0.63447376]\n"
          ]
        },
        {
          "output_type": "display_data",
          "data": {
            "text/plain": [
              "VBox(children=(Label(value='0.001 MB of 0.001 MB uploaded\\r'), FloatProgress(value=1.0, max=1.0)))"
            ],
            "application/vnd.jupyter.widget-view+json": {
              "version_major": 2,
              "version_minor": 0,
              "model_id": "70ccc5ede7b041e0aaa7163354331d80"
            }
          },
          "metadata": {}
        },
        {
          "output_type": "display_data",
          "data": {
            "text/plain": [
              "<IPython.core.display.HTML object>"
            ],
            "text/html": [
              "<style>\n",
              "    table.wandb td:nth-child(1) { padding: 0 10px; text-align: left ; width: auto;} td:nth-child(2) {text-align: left ; width: 100%}\n",
              "    .wandb-row { display: flex; flex-direction: row; flex-wrap: wrap; justify-content: flex-start; width: 100% }\n",
              "    .wandb-col { display: flex; flex-direction: column; flex-basis: 100%; flex: 1; padding: 10px; }\n",
              "    </style>\n",
              "<div class=\"wandb-row\"><div class=\"wandb-col\"><h3>Run history:</h3><br/><table class=\"wandb\"><tr><td>epoch</td><td>▁▃▅▆█</td></tr><tr><td>train_accuracy</td><td>▁▄▆▇█</td></tr><tr><td>train_loss</td><td>█▅▃▂▁</td></tr><tr><td>validation_accuracy</td><td>▁▄▆▇█</td></tr><tr><td>validation_loss</td><td>█▅▃▂▁</td></tr></table><br/></div><div class=\"wandb-col\"><h3>Run summary:</h3><br/><table class=\"wandb\"><tr><td>epoch</td><td>4</td></tr><tr><td>train_accuracy</td><td>77.12037</td></tr><tr><td>train_loss</td><td>0.62619</td></tr><tr><td>validation_accuracy</td><td>76.48333</td></tr><tr><td>validation_loss</td><td>0.63447</td></tr></table><br/></div></div>"
            ]
          },
          "metadata": {}
        },
        {
          "output_type": "display_data",
          "data": {
            "text/plain": [
              "<IPython.core.display.HTML object>"
            ],
            "text/html": [
              " View run <strong style=\"color:#cdcd00\">optimizer_func sgdweight_initial randomactivation_func sigmoid</strong> at: <a href='https://wandb.ai/dlassignment/DL_assignment/runs/sripf9qr' target=\"_blank\">https://wandb.ai/dlassignment/DL_assignment/runs/sripf9qr</a><br/>Synced 5 W&B file(s), 0 media file(s), 0 artifact file(s) and 0 other file(s)"
            ]
          },
          "metadata": {}
        },
        {
          "output_type": "display_data",
          "data": {
            "text/plain": [
              "<IPython.core.display.HTML object>"
            ],
            "text/html": [
              "Find logs at: <code>./wandb/run-20240317_180039-sripf9qr/logs</code>"
            ]
          },
          "metadata": {}
        },
        {
          "output_type": "stream",
          "name": "stdout",
          "text": [
            "Error in callback <bound method _WandbInit._pause_backend of <wandb.sdk.wandb_init._WandbInit object at 0x794f5b3d6d10>> (for post_run_cell):\n"
          ]
        },
        {
          "output_type": "error",
          "ename": "BrokenPipeError",
          "evalue": "[Errno 32] Broken pipe",
          "traceback": [
            "\u001b[0;31m---------------------------------------------------------------------------\u001b[0m",
            "\u001b[0;31mBrokenPipeError\u001b[0m                           Traceback (most recent call last)",
            "\u001b[0;32m/usr/local/lib/python3.10/dist-packages/wandb/sdk/wandb_init.py\u001b[0m in \u001b[0;36m_pause_backend\u001b[0;34m(self, *args, **kwargs)\u001b[0m\n\u001b[1;32m    436\u001b[0m         \u001b[0;32mif\u001b[0m \u001b[0mself\u001b[0m\u001b[0;34m.\u001b[0m\u001b[0mbackend\u001b[0m\u001b[0;34m.\u001b[0m\u001b[0minterface\u001b[0m \u001b[0;32mis\u001b[0m \u001b[0;32mnot\u001b[0m \u001b[0;32mNone\u001b[0m\u001b[0;34m:\u001b[0m\u001b[0;34m\u001b[0m\u001b[0;34m\u001b[0m\u001b[0m\n\u001b[1;32m    437\u001b[0m             \u001b[0mlogger\u001b[0m\u001b[0;34m.\u001b[0m\u001b[0minfo\u001b[0m\u001b[0;34m(\u001b[0m\u001b[0;34m\"pausing backend\"\u001b[0m\u001b[0;34m)\u001b[0m  \u001b[0;31m# type: ignore\u001b[0m\u001b[0;34m\u001b[0m\u001b[0;34m\u001b[0m\u001b[0m\n\u001b[0;32m--> 438\u001b[0;31m             \u001b[0mself\u001b[0m\u001b[0;34m.\u001b[0m\u001b[0mbackend\u001b[0m\u001b[0;34m.\u001b[0m\u001b[0minterface\u001b[0m\u001b[0;34m.\u001b[0m\u001b[0mpublish_pause\u001b[0m\u001b[0;34m(\u001b[0m\u001b[0;34m)\u001b[0m\u001b[0;34m\u001b[0m\u001b[0;34m\u001b[0m\u001b[0m\n\u001b[0m\u001b[1;32m    439\u001b[0m \u001b[0;34m\u001b[0m\u001b[0m\n\u001b[1;32m    440\u001b[0m     \u001b[0;32mdef\u001b[0m \u001b[0m_resume_backend\u001b[0m\u001b[0;34m(\u001b[0m\u001b[0mself\u001b[0m\u001b[0;34m,\u001b[0m \u001b[0;34m*\u001b[0m\u001b[0margs\u001b[0m\u001b[0;34m:\u001b[0m \u001b[0mAny\u001b[0m\u001b[0;34m,\u001b[0m \u001b[0;34m**\u001b[0m\u001b[0mkwargs\u001b[0m\u001b[0;34m:\u001b[0m \u001b[0mAny\u001b[0m\u001b[0;34m)\u001b[0m \u001b[0;34m->\u001b[0m \u001b[0;32mNone\u001b[0m\u001b[0;34m:\u001b[0m  \u001b[0;31m#  noqa\u001b[0m\u001b[0;34m\u001b[0m\u001b[0;34m\u001b[0m\u001b[0m\n",
            "\u001b[0;32m/usr/local/lib/python3.10/dist-packages/wandb/sdk/interface/interface.py\u001b[0m in \u001b[0;36mpublish_pause\u001b[0;34m(self)\u001b[0m\n\u001b[1;32m    657\u001b[0m     \u001b[0;32mdef\u001b[0m \u001b[0mpublish_pause\u001b[0m\u001b[0;34m(\u001b[0m\u001b[0mself\u001b[0m\u001b[0;34m)\u001b[0m \u001b[0;34m->\u001b[0m \u001b[0;32mNone\u001b[0m\u001b[0;34m:\u001b[0m\u001b[0;34m\u001b[0m\u001b[0;34m\u001b[0m\u001b[0m\n\u001b[1;32m    658\u001b[0m         \u001b[0mpause\u001b[0m \u001b[0;34m=\u001b[0m \u001b[0mpb\u001b[0m\u001b[0;34m.\u001b[0m\u001b[0mPauseRequest\u001b[0m\u001b[0;34m(\u001b[0m\u001b[0;34m)\u001b[0m\u001b[0;34m\u001b[0m\u001b[0;34m\u001b[0m\u001b[0m\n\u001b[0;32m--> 659\u001b[0;31m         \u001b[0mself\u001b[0m\u001b[0;34m.\u001b[0m\u001b[0m_publish_pause\u001b[0m\u001b[0;34m(\u001b[0m\u001b[0mpause\u001b[0m\u001b[0;34m)\u001b[0m\u001b[0;34m\u001b[0m\u001b[0;34m\u001b[0m\u001b[0m\n\u001b[0m\u001b[1;32m    660\u001b[0m \u001b[0;34m\u001b[0m\u001b[0m\n\u001b[1;32m    661\u001b[0m     \u001b[0;34m@\u001b[0m\u001b[0mabstractmethod\u001b[0m\u001b[0;34m\u001b[0m\u001b[0;34m\u001b[0m\u001b[0m\n",
            "\u001b[0;32m/usr/local/lib/python3.10/dist-packages/wandb/sdk/interface/interface_shared.py\u001b[0m in \u001b[0;36m_publish_pause\u001b[0;34m(self, pause)\u001b[0m\n\u001b[1;32m    353\u001b[0m     \u001b[0;32mdef\u001b[0m \u001b[0m_publish_pause\u001b[0m\u001b[0;34m(\u001b[0m\u001b[0mself\u001b[0m\u001b[0;34m,\u001b[0m \u001b[0mpause\u001b[0m\u001b[0;34m:\u001b[0m \u001b[0mpb\u001b[0m\u001b[0;34m.\u001b[0m\u001b[0mPauseRequest\u001b[0m\u001b[0;34m)\u001b[0m \u001b[0;34m->\u001b[0m \u001b[0;32mNone\u001b[0m\u001b[0;34m:\u001b[0m\u001b[0;34m\u001b[0m\u001b[0;34m\u001b[0m\u001b[0m\n\u001b[1;32m    354\u001b[0m         \u001b[0mrec\u001b[0m \u001b[0;34m=\u001b[0m \u001b[0mself\u001b[0m\u001b[0;34m.\u001b[0m\u001b[0m_make_request\u001b[0m\u001b[0;34m(\u001b[0m\u001b[0mpause\u001b[0m\u001b[0;34m=\u001b[0m\u001b[0mpause\u001b[0m\u001b[0;34m)\u001b[0m\u001b[0;34m\u001b[0m\u001b[0;34m\u001b[0m\u001b[0m\n\u001b[0;32m--> 355\u001b[0;31m         \u001b[0mself\u001b[0m\u001b[0;34m.\u001b[0m\u001b[0m_publish\u001b[0m\u001b[0;34m(\u001b[0m\u001b[0mrec\u001b[0m\u001b[0;34m)\u001b[0m\u001b[0;34m\u001b[0m\u001b[0;34m\u001b[0m\u001b[0m\n\u001b[0m\u001b[1;32m    356\u001b[0m \u001b[0;34m\u001b[0m\u001b[0m\n\u001b[1;32m    357\u001b[0m     \u001b[0;32mdef\u001b[0m \u001b[0m_publish_resume\u001b[0m\u001b[0;34m(\u001b[0m\u001b[0mself\u001b[0m\u001b[0;34m,\u001b[0m \u001b[0mresume\u001b[0m\u001b[0;34m:\u001b[0m \u001b[0mpb\u001b[0m\u001b[0;34m.\u001b[0m\u001b[0mResumeRequest\u001b[0m\u001b[0;34m)\u001b[0m \u001b[0;34m->\u001b[0m \u001b[0;32mNone\u001b[0m\u001b[0;34m:\u001b[0m\u001b[0;34m\u001b[0m\u001b[0;34m\u001b[0m\u001b[0m\n",
            "\u001b[0;32m/usr/local/lib/python3.10/dist-packages/wandb/sdk/interface/interface_sock.py\u001b[0m in \u001b[0;36m_publish\u001b[0;34m(self, record, local)\u001b[0m\n\u001b[1;32m     49\u001b[0m     \u001b[0;32mdef\u001b[0m \u001b[0m_publish\u001b[0m\u001b[0;34m(\u001b[0m\u001b[0mself\u001b[0m\u001b[0;34m,\u001b[0m \u001b[0mrecord\u001b[0m\u001b[0;34m:\u001b[0m \u001b[0;34m\"pb.Record\"\u001b[0m\u001b[0;34m,\u001b[0m \u001b[0mlocal\u001b[0m\u001b[0;34m:\u001b[0m \u001b[0mOptional\u001b[0m\u001b[0;34m[\u001b[0m\u001b[0mbool\u001b[0m\u001b[0;34m]\u001b[0m \u001b[0;34m=\u001b[0m \u001b[0;32mNone\u001b[0m\u001b[0;34m)\u001b[0m \u001b[0;34m->\u001b[0m \u001b[0;32mNone\u001b[0m\u001b[0;34m:\u001b[0m\u001b[0;34m\u001b[0m\u001b[0;34m\u001b[0m\u001b[0m\n\u001b[1;32m     50\u001b[0m         \u001b[0mself\u001b[0m\u001b[0;34m.\u001b[0m\u001b[0m_assign\u001b[0m\u001b[0;34m(\u001b[0m\u001b[0mrecord\u001b[0m\u001b[0;34m)\u001b[0m\u001b[0;34m\u001b[0m\u001b[0;34m\u001b[0m\u001b[0m\n\u001b[0;32m---> 51\u001b[0;31m         \u001b[0mself\u001b[0m\u001b[0;34m.\u001b[0m\u001b[0m_sock_client\u001b[0m\u001b[0;34m.\u001b[0m\u001b[0msend_record_publish\u001b[0m\u001b[0;34m(\u001b[0m\u001b[0mrecord\u001b[0m\u001b[0;34m)\u001b[0m\u001b[0;34m\u001b[0m\u001b[0;34m\u001b[0m\u001b[0m\n\u001b[0m\u001b[1;32m     52\u001b[0m \u001b[0;34m\u001b[0m\u001b[0m\n\u001b[1;32m     53\u001b[0m     def _communicate_async(\n",
            "\u001b[0;32m/usr/local/lib/python3.10/dist-packages/wandb/sdk/lib/sock_client.py\u001b[0m in \u001b[0;36msend_record_publish\u001b[0;34m(self, record)\u001b[0m\n\u001b[1;32m    219\u001b[0m         \u001b[0mserver_req\u001b[0m \u001b[0;34m=\u001b[0m \u001b[0mspb\u001b[0m\u001b[0;34m.\u001b[0m\u001b[0mServerRequest\u001b[0m\u001b[0;34m(\u001b[0m\u001b[0;34m)\u001b[0m\u001b[0;34m\u001b[0m\u001b[0;34m\u001b[0m\u001b[0m\n\u001b[1;32m    220\u001b[0m         \u001b[0mserver_req\u001b[0m\u001b[0;34m.\u001b[0m\u001b[0mrecord_publish\u001b[0m\u001b[0;34m.\u001b[0m\u001b[0mCopyFrom\u001b[0m\u001b[0;34m(\u001b[0m\u001b[0mrecord\u001b[0m\u001b[0;34m)\u001b[0m\u001b[0;34m\u001b[0m\u001b[0;34m\u001b[0m\u001b[0m\n\u001b[0;32m--> 221\u001b[0;31m         \u001b[0mself\u001b[0m\u001b[0;34m.\u001b[0m\u001b[0msend_server_request\u001b[0m\u001b[0;34m(\u001b[0m\u001b[0mserver_req\u001b[0m\u001b[0;34m)\u001b[0m\u001b[0;34m\u001b[0m\u001b[0;34m\u001b[0m\u001b[0m\n\u001b[0m\u001b[1;32m    222\u001b[0m \u001b[0;34m\u001b[0m\u001b[0m\n\u001b[1;32m    223\u001b[0m     \u001b[0;32mdef\u001b[0m \u001b[0m_extract_packet_bytes\u001b[0m\u001b[0;34m(\u001b[0m\u001b[0mself\u001b[0m\u001b[0;34m)\u001b[0m \u001b[0;34m->\u001b[0m \u001b[0mOptional\u001b[0m\u001b[0;34m[\u001b[0m\u001b[0mbytes\u001b[0m\u001b[0;34m]\u001b[0m\u001b[0;34m:\u001b[0m\u001b[0;34m\u001b[0m\u001b[0;34m\u001b[0m\u001b[0m\n",
            "\u001b[0;32m/usr/local/lib/python3.10/dist-packages/wandb/sdk/lib/sock_client.py\u001b[0m in \u001b[0;36msend_server_request\u001b[0;34m(self, msg)\u001b[0m\n\u001b[1;32m    153\u001b[0m \u001b[0;34m\u001b[0m\u001b[0m\n\u001b[1;32m    154\u001b[0m     \u001b[0;32mdef\u001b[0m \u001b[0msend_server_request\u001b[0m\u001b[0;34m(\u001b[0m\u001b[0mself\u001b[0m\u001b[0;34m,\u001b[0m \u001b[0mmsg\u001b[0m\u001b[0;34m:\u001b[0m \u001b[0mAny\u001b[0m\u001b[0;34m)\u001b[0m \u001b[0;34m->\u001b[0m \u001b[0;32mNone\u001b[0m\u001b[0;34m:\u001b[0m\u001b[0;34m\u001b[0m\u001b[0;34m\u001b[0m\u001b[0m\n\u001b[0;32m--> 155\u001b[0;31m         \u001b[0mself\u001b[0m\u001b[0;34m.\u001b[0m\u001b[0m_send_message\u001b[0m\u001b[0;34m(\u001b[0m\u001b[0mmsg\u001b[0m\u001b[0;34m)\u001b[0m\u001b[0;34m\u001b[0m\u001b[0;34m\u001b[0m\u001b[0m\n\u001b[0m\u001b[1;32m    156\u001b[0m \u001b[0;34m\u001b[0m\u001b[0m\n\u001b[1;32m    157\u001b[0m     \u001b[0;32mdef\u001b[0m \u001b[0msend_server_response\u001b[0m\u001b[0;34m(\u001b[0m\u001b[0mself\u001b[0m\u001b[0;34m,\u001b[0m \u001b[0mmsg\u001b[0m\u001b[0;34m:\u001b[0m \u001b[0mAny\u001b[0m\u001b[0;34m)\u001b[0m \u001b[0;34m->\u001b[0m \u001b[0;32mNone\u001b[0m\u001b[0;34m:\u001b[0m\u001b[0;34m\u001b[0m\u001b[0;34m\u001b[0m\u001b[0m\n",
            "\u001b[0;32m/usr/local/lib/python3.10/dist-packages/wandb/sdk/lib/sock_client.py\u001b[0m in \u001b[0;36m_send_message\u001b[0;34m(self, msg)\u001b[0m\n\u001b[1;32m    150\u001b[0m         \u001b[0mheader\u001b[0m \u001b[0;34m=\u001b[0m \u001b[0mstruct\u001b[0m\u001b[0;34m.\u001b[0m\u001b[0mpack\u001b[0m\u001b[0;34m(\u001b[0m\u001b[0;34m\"<BI\"\u001b[0m\u001b[0;34m,\u001b[0m \u001b[0mord\u001b[0m\u001b[0;34m(\u001b[0m\u001b[0;34m\"W\"\u001b[0m\u001b[0;34m)\u001b[0m\u001b[0;34m,\u001b[0m \u001b[0mraw_size\u001b[0m\u001b[0;34m)\u001b[0m\u001b[0;34m\u001b[0m\u001b[0;34m\u001b[0m\u001b[0m\n\u001b[1;32m    151\u001b[0m         \u001b[0;32mwith\u001b[0m \u001b[0mself\u001b[0m\u001b[0;34m.\u001b[0m\u001b[0m_lock\u001b[0m\u001b[0;34m:\u001b[0m\u001b[0;34m\u001b[0m\u001b[0;34m\u001b[0m\u001b[0m\n\u001b[0;32m--> 152\u001b[0;31m             \u001b[0mself\u001b[0m\u001b[0;34m.\u001b[0m\u001b[0m_sendall_with_error_handle\u001b[0m\u001b[0;34m(\u001b[0m\u001b[0mheader\u001b[0m \u001b[0;34m+\u001b[0m \u001b[0mdata\u001b[0m\u001b[0;34m)\u001b[0m\u001b[0;34m\u001b[0m\u001b[0;34m\u001b[0m\u001b[0m\n\u001b[0m\u001b[1;32m    153\u001b[0m \u001b[0;34m\u001b[0m\u001b[0m\n\u001b[1;32m    154\u001b[0m     \u001b[0;32mdef\u001b[0m \u001b[0msend_server_request\u001b[0m\u001b[0;34m(\u001b[0m\u001b[0mself\u001b[0m\u001b[0;34m,\u001b[0m \u001b[0mmsg\u001b[0m\u001b[0;34m:\u001b[0m \u001b[0mAny\u001b[0m\u001b[0;34m)\u001b[0m \u001b[0;34m->\u001b[0m \u001b[0;32mNone\u001b[0m\u001b[0;34m:\u001b[0m\u001b[0;34m\u001b[0m\u001b[0;34m\u001b[0m\u001b[0m\n",
            "\u001b[0;32m/usr/local/lib/python3.10/dist-packages/wandb/sdk/lib/sock_client.py\u001b[0m in \u001b[0;36m_sendall_with_error_handle\u001b[0;34m(self, data)\u001b[0m\n\u001b[1;32m    128\u001b[0m             \u001b[0mstart_time\u001b[0m \u001b[0;34m=\u001b[0m \u001b[0mtime\u001b[0m\u001b[0;34m.\u001b[0m\u001b[0mmonotonic\u001b[0m\u001b[0;34m(\u001b[0m\u001b[0;34m)\u001b[0m\u001b[0;34m\u001b[0m\u001b[0;34m\u001b[0m\u001b[0m\n\u001b[1;32m    129\u001b[0m             \u001b[0;32mtry\u001b[0m\u001b[0;34m:\u001b[0m\u001b[0;34m\u001b[0m\u001b[0;34m\u001b[0m\u001b[0m\n\u001b[0;32m--> 130\u001b[0;31m                 \u001b[0msent\u001b[0m \u001b[0;34m=\u001b[0m \u001b[0mself\u001b[0m\u001b[0;34m.\u001b[0m\u001b[0m_sock\u001b[0m\u001b[0;34m.\u001b[0m\u001b[0msend\u001b[0m\u001b[0;34m(\u001b[0m\u001b[0mdata\u001b[0m\u001b[0;34m)\u001b[0m\u001b[0;34m\u001b[0m\u001b[0;34m\u001b[0m\u001b[0m\n\u001b[0m\u001b[1;32m    131\u001b[0m                 \u001b[0;31m# sent equal to 0 indicates a closed socket\u001b[0m\u001b[0;34m\u001b[0m\u001b[0;34m\u001b[0m\u001b[0m\n\u001b[1;32m    132\u001b[0m                 \u001b[0;32mif\u001b[0m \u001b[0msent\u001b[0m \u001b[0;34m==\u001b[0m \u001b[0;36m0\u001b[0m\u001b[0;34m:\u001b[0m\u001b[0;34m\u001b[0m\u001b[0;34m\u001b[0m\u001b[0m\n",
            "\u001b[0;31mBrokenPipeError\u001b[0m: [Errno 32] Broken pipe"
          ]
        }
      ],
      "source": [
        "def mainFunction(maxIter,n,neurons,weightDecay,learnRate,optimizer,batchSize,weightInit,activFunc):\n",
        "  if(optimizer == 'sgd'):\n",
        "    accuracy = SGD(n,neurons,maxIter,weightDecay,learnRate,batchSize,weightInit,activFunc,'entropy')\n",
        "  elif(optimizer == 'mgd'):\n",
        "    accuracy = MGD(n,neurons,maxIter,weightDecay,learnRate,batchSize,weightInit,activFunc,'entropy')\n",
        "  elif(optimizer == 'ngd'):\n",
        "    accuracy = NGD(n,neurons,maxIter,weightDecay,learnRate,batchSize,weightInit,activFunc,'entropy')\n",
        "  elif(optimizer == 'rmsProp'):\n",
        "    accuracy = rmsProp(n,neurons,maxIter,weightDecay,learnRate,batchSize,weightInit,activFunc,'entropy')\n",
        "  elif(optimizer == 'adam'):\n",
        "    accuracy = adam(n,neurons,maxIter,weightDecay,learnRate,batchSize,weightInit,activFunc,'entropy')\n",
        "  else:\n",
        "    w,b = nadam(n,neurons,maxIter,weightDecay,learnRate,batchSize,weightInit,activFunc,'entropy')\n",
        "\n",
        "\n",
        "def main_fun():\n",
        "  wandb.init(project ='DL_assignment')\n",
        "  params = wandb.config\n",
        "  with wandb.init(project = 'DL_assignment', name='optimizer_func '+params.optimizer+'weight_initial '+params.weightInit+'activation_func '+params.activFunc) as run:\n",
        "    mainFunction(params.maxIter,params.n,params.neurons,params.weightDecay,params.learnRate,params.optimizer,params.batchSize,params.weightInit,params.activFunc)\n",
        "\n",
        "#weightDecay is 0 now but change it later\n",
        "sweep_params = {\n",
        "    'method' : 'bayes',\n",
        "    'name'   : 'Shriram',\n",
        "    'metric' : {\n",
        "        'goal' : 'maximize',\n",
        "        'name' : 'validation_accuracy',\n",
        "    },\n",
        "    'parameters' : {\n",
        "        'neurons':{'values':[64]},\n",
        "        'optimizer':{'values':['sgd']},\n",
        "        'maxIter' : {'values' : [5]},\n",
        "        'n'       : {'values' : [3]},\n",
        "        'weightDecay' : {'values' : [0] } ,\n",
        "        'learnRate' : {'values' : [0.001]},\n",
        "        'batchSize' : {'values' : [32]},\n",
        "        'weightInit' : {'values': ['random']},\n",
        "        'activFunc' : {'values' : ['sigmoid']}\n",
        "    }\n",
        "}\n",
        "sweepId = wandb.sweep(sweep_params,project = 'DL_assignment')\n",
        "wandb.agent(sweepId,function =main_fun,count = 1)\n",
        "wandb.finish()"
      ]
    }
  ],
  "metadata": {
    "colab": {
      "provenance": [],
      "authorship_tag": "ABX9TyM9rVz9O8tk4ZnFSnDUdju4",
      "include_colab_link": true
    },
    "kernelspec": {
      "display_name": "Python 3",
      "name": "python3"
    },
    "language_info": {
      "name": "python"
    },
    "widgets": {
      "application/vnd.jupyter.widget-state+json": {
        "0466a8cdfa994fc3b0a02f84dd3f0ccc": {
          "model_module": "@jupyter-widgets/controls",
          "model_name": "VBoxModel",
          "model_module_version": "1.5.0",
          "state": {
            "_dom_classes": [],
            "_model_module": "@jupyter-widgets/controls",
            "_model_module_version": "1.5.0",
            "_model_name": "VBoxModel",
            "_view_count": null,
            "_view_module": "@jupyter-widgets/controls",
            "_view_module_version": "1.5.0",
            "_view_name": "VBoxView",
            "box_style": "",
            "children": [
              "IPY_MODEL_0d57e848b8c24346b8510d991b5fcec1",
              "IPY_MODEL_832d6782431a4067883878e60524e5b6"
            ],
            "layout": "IPY_MODEL_ae2c47f137444b88bdbc8848d0aee17e"
          }
        },
        "0d57e848b8c24346b8510d991b5fcec1": {
          "model_module": "@jupyter-widgets/controls",
          "model_name": "LabelModel",
          "model_module_version": "1.5.0",
          "state": {
            "_dom_classes": [],
            "_model_module": "@jupyter-widgets/controls",
            "_model_module_version": "1.5.0",
            "_model_name": "LabelModel",
            "_view_count": null,
            "_view_module": "@jupyter-widgets/controls",
            "_view_module_version": "1.5.0",
            "_view_name": "LabelView",
            "description": "",
            "description_tooltip": null,
            "layout": "IPY_MODEL_923b4949c5cb4841acf85a066cf2df84",
            "placeholder": "​",
            "style": "IPY_MODEL_22fc166d07d04fc9b89679df52eef988",
            "value": "0.010 MB of 0.010 MB uploaded\r"
          }
        },
        "832d6782431a4067883878e60524e5b6": {
          "model_module": "@jupyter-widgets/controls",
          "model_name": "FloatProgressModel",
          "model_module_version": "1.5.0",
          "state": {
            "_dom_classes": [],
            "_model_module": "@jupyter-widgets/controls",
            "_model_module_version": "1.5.0",
            "_model_name": "FloatProgressModel",
            "_view_count": null,
            "_view_module": "@jupyter-widgets/controls",
            "_view_module_version": "1.5.0",
            "_view_name": "ProgressView",
            "bar_style": "",
            "description": "",
            "description_tooltip": null,
            "layout": "IPY_MODEL_2aa7f70b001a4bdda03df71d8478fe52",
            "max": 1,
            "min": 0,
            "orientation": "horizontal",
            "style": "IPY_MODEL_d9a93b4138df4978bbb076aeb594ab08",
            "value": 1
          }
        },
        "ae2c47f137444b88bdbc8848d0aee17e": {
          "model_module": "@jupyter-widgets/base",
          "model_name": "LayoutModel",
          "model_module_version": "1.2.0",
          "state": {
            "_model_module": "@jupyter-widgets/base",
            "_model_module_version": "1.2.0",
            "_model_name": "LayoutModel",
            "_view_count": null,
            "_view_module": "@jupyter-widgets/base",
            "_view_module_version": "1.2.0",
            "_view_name": "LayoutView",
            "align_content": null,
            "align_items": null,
            "align_self": null,
            "border": null,
            "bottom": null,
            "display": null,
            "flex": null,
            "flex_flow": null,
            "grid_area": null,
            "grid_auto_columns": null,
            "grid_auto_flow": null,
            "grid_auto_rows": null,
            "grid_column": null,
            "grid_gap": null,
            "grid_row": null,
            "grid_template_areas": null,
            "grid_template_columns": null,
            "grid_template_rows": null,
            "height": null,
            "justify_content": null,
            "justify_items": null,
            "left": null,
            "margin": null,
            "max_height": null,
            "max_width": null,
            "min_height": null,
            "min_width": null,
            "object_fit": null,
            "object_position": null,
            "order": null,
            "overflow": null,
            "overflow_x": null,
            "overflow_y": null,
            "padding": null,
            "right": null,
            "top": null,
            "visibility": null,
            "width": null
          }
        },
        "923b4949c5cb4841acf85a066cf2df84": {
          "model_module": "@jupyter-widgets/base",
          "model_name": "LayoutModel",
          "model_module_version": "1.2.0",
          "state": {
            "_model_module": "@jupyter-widgets/base",
            "_model_module_version": "1.2.0",
            "_model_name": "LayoutModel",
            "_view_count": null,
            "_view_module": "@jupyter-widgets/base",
            "_view_module_version": "1.2.0",
            "_view_name": "LayoutView",
            "align_content": null,
            "align_items": null,
            "align_self": null,
            "border": null,
            "bottom": null,
            "display": null,
            "flex": null,
            "flex_flow": null,
            "grid_area": null,
            "grid_auto_columns": null,
            "grid_auto_flow": null,
            "grid_auto_rows": null,
            "grid_column": null,
            "grid_gap": null,
            "grid_row": null,
            "grid_template_areas": null,
            "grid_template_columns": null,
            "grid_template_rows": null,
            "height": null,
            "justify_content": null,
            "justify_items": null,
            "left": null,
            "margin": null,
            "max_height": null,
            "max_width": null,
            "min_height": null,
            "min_width": null,
            "object_fit": null,
            "object_position": null,
            "order": null,
            "overflow": null,
            "overflow_x": null,
            "overflow_y": null,
            "padding": null,
            "right": null,
            "top": null,
            "visibility": null,
            "width": null
          }
        },
        "22fc166d07d04fc9b89679df52eef988": {
          "model_module": "@jupyter-widgets/controls",
          "model_name": "DescriptionStyleModel",
          "model_module_version": "1.5.0",
          "state": {
            "_model_module": "@jupyter-widgets/controls",
            "_model_module_version": "1.5.0",
            "_model_name": "DescriptionStyleModel",
            "_view_count": null,
            "_view_module": "@jupyter-widgets/base",
            "_view_module_version": "1.2.0",
            "_view_name": "StyleView",
            "description_width": ""
          }
        },
        "2aa7f70b001a4bdda03df71d8478fe52": {
          "model_module": "@jupyter-widgets/base",
          "model_name": "LayoutModel",
          "model_module_version": "1.2.0",
          "state": {
            "_model_module": "@jupyter-widgets/base",
            "_model_module_version": "1.2.0",
            "_model_name": "LayoutModel",
            "_view_count": null,
            "_view_module": "@jupyter-widgets/base",
            "_view_module_version": "1.2.0",
            "_view_name": "LayoutView",
            "align_content": null,
            "align_items": null,
            "align_self": null,
            "border": null,
            "bottom": null,
            "display": null,
            "flex": null,
            "flex_flow": null,
            "grid_area": null,
            "grid_auto_columns": null,
            "grid_auto_flow": null,
            "grid_auto_rows": null,
            "grid_column": null,
            "grid_gap": null,
            "grid_row": null,
            "grid_template_areas": null,
            "grid_template_columns": null,
            "grid_template_rows": null,
            "height": null,
            "justify_content": null,
            "justify_items": null,
            "left": null,
            "margin": null,
            "max_height": null,
            "max_width": null,
            "min_height": null,
            "min_width": null,
            "object_fit": null,
            "object_position": null,
            "order": null,
            "overflow": null,
            "overflow_x": null,
            "overflow_y": null,
            "padding": null,
            "right": null,
            "top": null,
            "visibility": null,
            "width": null
          }
        },
        "d9a93b4138df4978bbb076aeb594ab08": {
          "model_module": "@jupyter-widgets/controls",
          "model_name": "ProgressStyleModel",
          "model_module_version": "1.5.0",
          "state": {
            "_model_module": "@jupyter-widgets/controls",
            "_model_module_version": "1.5.0",
            "_model_name": "ProgressStyleModel",
            "_view_count": null,
            "_view_module": "@jupyter-widgets/base",
            "_view_module_version": "1.2.0",
            "_view_name": "StyleView",
            "bar_color": null,
            "description_width": ""
          }
        },
        "70ccc5ede7b041e0aaa7163354331d80": {
          "model_module": "@jupyter-widgets/controls",
          "model_name": "VBoxModel",
          "model_module_version": "1.5.0",
          "state": {
            "_dom_classes": [],
            "_model_module": "@jupyter-widgets/controls",
            "_model_module_version": "1.5.0",
            "_model_name": "VBoxModel",
            "_view_count": null,
            "_view_module": "@jupyter-widgets/controls",
            "_view_module_version": "1.5.0",
            "_view_name": "VBoxView",
            "box_style": "",
            "children": [
              "IPY_MODEL_c2932228b11446a881eef05c1444ca6b",
              "IPY_MODEL_3d5ec6686ccb4b0cbce1c71e1a2d06ee"
            ],
            "layout": "IPY_MODEL_a56c8223e84c4cf89bb777b18bee3f08"
          }
        },
        "c2932228b11446a881eef05c1444ca6b": {
          "model_module": "@jupyter-widgets/controls",
          "model_name": "LabelModel",
          "model_module_version": "1.5.0",
          "state": {
            "_dom_classes": [],
            "_model_module": "@jupyter-widgets/controls",
            "_model_module_version": "1.5.0",
            "_model_name": "LabelModel",
            "_view_count": null,
            "_view_module": "@jupyter-widgets/controls",
            "_view_module_version": "1.5.0",
            "_view_name": "LabelView",
            "description": "",
            "description_tooltip": null,
            "layout": "IPY_MODEL_5cbb672596ac468aa214874cc1f0b5ec",
            "placeholder": "​",
            "style": "IPY_MODEL_bc2c0ac88f054197929eb87bd334b4cd",
            "value": "0.011 MB of 0.011 MB uploaded\r"
          }
        },
        "3d5ec6686ccb4b0cbce1c71e1a2d06ee": {
          "model_module": "@jupyter-widgets/controls",
          "model_name": "FloatProgressModel",
          "model_module_version": "1.5.0",
          "state": {
            "_dom_classes": [],
            "_model_module": "@jupyter-widgets/controls",
            "_model_module_version": "1.5.0",
            "_model_name": "FloatProgressModel",
            "_view_count": null,
            "_view_module": "@jupyter-widgets/controls",
            "_view_module_version": "1.5.0",
            "_view_name": "ProgressView",
            "bar_style": "",
            "description": "",
            "description_tooltip": null,
            "layout": "IPY_MODEL_dc0f789aff184b23b4f50d9d547c98a4",
            "max": 1,
            "min": 0,
            "orientation": "horizontal",
            "style": "IPY_MODEL_2651f568396a4751a9909c438f84c9d1",
            "value": 1
          }
        },
        "a56c8223e84c4cf89bb777b18bee3f08": {
          "model_module": "@jupyter-widgets/base",
          "model_name": "LayoutModel",
          "model_module_version": "1.2.0",
          "state": {
            "_model_module": "@jupyter-widgets/base",
            "_model_module_version": "1.2.0",
            "_model_name": "LayoutModel",
            "_view_count": null,
            "_view_module": "@jupyter-widgets/base",
            "_view_module_version": "1.2.0",
            "_view_name": "LayoutView",
            "align_content": null,
            "align_items": null,
            "align_self": null,
            "border": null,
            "bottom": null,
            "display": null,
            "flex": null,
            "flex_flow": null,
            "grid_area": null,
            "grid_auto_columns": null,
            "grid_auto_flow": null,
            "grid_auto_rows": null,
            "grid_column": null,
            "grid_gap": null,
            "grid_row": null,
            "grid_template_areas": null,
            "grid_template_columns": null,
            "grid_template_rows": null,
            "height": null,
            "justify_content": null,
            "justify_items": null,
            "left": null,
            "margin": null,
            "max_height": null,
            "max_width": null,
            "min_height": null,
            "min_width": null,
            "object_fit": null,
            "object_position": null,
            "order": null,
            "overflow": null,
            "overflow_x": null,
            "overflow_y": null,
            "padding": null,
            "right": null,
            "top": null,
            "visibility": null,
            "width": null
          }
        },
        "5cbb672596ac468aa214874cc1f0b5ec": {
          "model_module": "@jupyter-widgets/base",
          "model_name": "LayoutModel",
          "model_module_version": "1.2.0",
          "state": {
            "_model_module": "@jupyter-widgets/base",
            "_model_module_version": "1.2.0",
            "_model_name": "LayoutModel",
            "_view_count": null,
            "_view_module": "@jupyter-widgets/base",
            "_view_module_version": "1.2.0",
            "_view_name": "LayoutView",
            "align_content": null,
            "align_items": null,
            "align_self": null,
            "border": null,
            "bottom": null,
            "display": null,
            "flex": null,
            "flex_flow": null,
            "grid_area": null,
            "grid_auto_columns": null,
            "grid_auto_flow": null,
            "grid_auto_rows": null,
            "grid_column": null,
            "grid_gap": null,
            "grid_row": null,
            "grid_template_areas": null,
            "grid_template_columns": null,
            "grid_template_rows": null,
            "height": null,
            "justify_content": null,
            "justify_items": null,
            "left": null,
            "margin": null,
            "max_height": null,
            "max_width": null,
            "min_height": null,
            "min_width": null,
            "object_fit": null,
            "object_position": null,
            "order": null,
            "overflow": null,
            "overflow_x": null,
            "overflow_y": null,
            "padding": null,
            "right": null,
            "top": null,
            "visibility": null,
            "width": null
          }
        },
        "bc2c0ac88f054197929eb87bd334b4cd": {
          "model_module": "@jupyter-widgets/controls",
          "model_name": "DescriptionStyleModel",
          "model_module_version": "1.5.0",
          "state": {
            "_model_module": "@jupyter-widgets/controls",
            "_model_module_version": "1.5.0",
            "_model_name": "DescriptionStyleModel",
            "_view_count": null,
            "_view_module": "@jupyter-widgets/base",
            "_view_module_version": "1.2.0",
            "_view_name": "StyleView",
            "description_width": ""
          }
        },
        "dc0f789aff184b23b4f50d9d547c98a4": {
          "model_module": "@jupyter-widgets/base",
          "model_name": "LayoutModel",
          "model_module_version": "1.2.0",
          "state": {
            "_model_module": "@jupyter-widgets/base",
            "_model_module_version": "1.2.0",
            "_model_name": "LayoutModel",
            "_view_count": null,
            "_view_module": "@jupyter-widgets/base",
            "_view_module_version": "1.2.0",
            "_view_name": "LayoutView",
            "align_content": null,
            "align_items": null,
            "align_self": null,
            "border": null,
            "bottom": null,
            "display": null,
            "flex": null,
            "flex_flow": null,
            "grid_area": null,
            "grid_auto_columns": null,
            "grid_auto_flow": null,
            "grid_auto_rows": null,
            "grid_column": null,
            "grid_gap": null,
            "grid_row": null,
            "grid_template_areas": null,
            "grid_template_columns": null,
            "grid_template_rows": null,
            "height": null,
            "justify_content": null,
            "justify_items": null,
            "left": null,
            "margin": null,
            "max_height": null,
            "max_width": null,
            "min_height": null,
            "min_width": null,
            "object_fit": null,
            "object_position": null,
            "order": null,
            "overflow": null,
            "overflow_x": null,
            "overflow_y": null,
            "padding": null,
            "right": null,
            "top": null,
            "visibility": null,
            "width": null
          }
        },
        "2651f568396a4751a9909c438f84c9d1": {
          "model_module": "@jupyter-widgets/controls",
          "model_name": "ProgressStyleModel",
          "model_module_version": "1.5.0",
          "state": {
            "_model_module": "@jupyter-widgets/controls",
            "_model_module_version": "1.5.0",
            "_model_name": "ProgressStyleModel",
            "_view_count": null,
            "_view_module": "@jupyter-widgets/base",
            "_view_module_version": "1.2.0",
            "_view_name": "StyleView",
            "bar_color": null,
            "description_width": ""
          }
        }
      }
    }
  },
  "nbformat": 4,
  "nbformat_minor": 0
}